{
 "cells": [
  {
   "cell_type": "code",
   "execution_count": 1,
   "metadata": {
    "scrolled": true
   },
   "outputs": [
    {
     "name": "stderr",
     "output_type": "stream",
     "text": [
      "/tmp/ipykernel_124696/2931265111.py:24: TqdmWarning: IProgress not found. Please update jupyter and ipywidgets. See https://ipywidgets.readthedocs.io/en/stable/user_install.html\n",
      "  from tqdm.autonotebook import tqdm\n"
     ]
    }
   ],
   "source": [
    "%load_ext autoreload\n",
    "%autoreload 2\n",
    "%matplotlib inline\n",
    "import os\n",
    "os.environ['CUDA_DEVICE_ORDER']='PCI_BUS_ID'\n",
    "os.environ['CUDA_VISIBLE_DEVICES']='0'\n",
    "import variational\n",
    "import matplotlib.pyplot as plt\n",
    "import seaborn as sns\n",
    "from matplotlib.ticker import FuncFormatter\n",
    "from itertools import cycle\n",
    "import os\n",
    "import time\n",
    "import math\n",
    "import pandas as pd\n",
    "from collections import OrderedDict\n",
    "from sklearn.linear_model import LogisticRegression\n",
    "    \n",
    "import copy\n",
    "import torch.nn as nn\n",
    "from torch.autograd import Variable\n",
    "from typing import List\n",
    "import itertools\n",
    "from tqdm.autonotebook import tqdm\n",
    "from models import *\n",
    "import models\n",
    "from logger import *\n",
    "import wandb\n",
    "\n",
    "from thirdparty.repdistiller.helper.util import adjust_learning_rate as sgda_adjust_learning_rate\n",
    "from thirdparty.repdistiller.distiller_zoo import DistillKL, HintLoss, Attention, Similarity, Correlation, VIDLoss, RKDLoss\n",
    "from thirdparty.repdistiller.distiller_zoo import PKT, ABLoss, FactorTransfer, KDSVD, FSP, NSTLoss\n",
    "\n",
    "from thirdparty.repdistiller.helper.loops import train_distill, train_distill_hide, train_distill_linear, train_vanilla, train_negrad, train_bcu, train_bcu_distill, validate\n",
    "from thirdparty.repdistiller.helper.pretrain import init"
   ]
  },
  {
   "cell_type": "code",
   "execution_count": 2,
   "metadata": {},
   "outputs": [],
   "source": [
    "def pdb():\n",
    "    import pdb\n",
    "    pdb.set_trace"
   ]
  },
  {
   "cell_type": "code",
   "execution_count": 3,
   "metadata": {},
   "outputs": [],
   "source": [
    "def parameter_count(model):\n",
    "    count=0\n",
    "    for p in model.parameters():\n",
    "        count+=np.prod(np.array(list(p.shape)))\n",
    "    print(f'Total Number of Parameters: {count}')"
   ]
  },
  {
   "cell_type": "code",
   "execution_count": 4,
   "metadata": {},
   "outputs": [],
   "source": [
    "def vectorize_params(model):\n",
    "    param = []\n",
    "    for p in model.parameters():\n",
    "        param.append(p.data.view(-1).cpu().numpy())\n",
    "    return np.concatenate(param)"
   ]
  },
  {
   "cell_type": "code",
   "execution_count": 5,
   "metadata": {},
   "outputs": [],
   "source": [
    "def print_param_shape(model):\n",
    "    for k,p in model.named_parameters():\n",
    "        print(k,p.shape)"
   ]
  },
  {
   "cell_type": "markdown",
   "metadata": {},
   "source": [
    "### Pre-training"
   ]
  },
  {
   "cell_type": "code",
   "execution_count": null,
   "metadata": {
    "scrolled": true
   },
   "outputs": [],
   "source": [
    "%run main.py --dataset cifar100 --dataroot=data/cifar-100-python --model resnet --filters 0.4 --lr 0.1 --lossfn ce --num-classes 100"
   ]
  },
  {
   "cell_type": "markdown",
   "metadata": {},
   "source": [
    "### Train the original model"
   ]
  },
  {
   "cell_type": "code",
   "execution_count": 9,
   "metadata": {},
   "outputs": [
    {
     "name": "stdout",
     "output_type": "stream",
     "text": [
      "Checkpoint name: small_cifar5_resnet_0_4_forget_None_lr_0_01_bs_128_ls_ce_wd_0_1_seed_1\n",
      "[Logging in small_cifar5_resnet_0_4_forget_None_lr_0_01_bs_128_ls_ce_wd_0_1_seed_1_training]\n",
      "use_cuda:  True\n",
      "Files already downloaded and verified\n",
      "Files already downloaded and verified\n",
      "confuse mode: False\n",
      "split mode: None\n",
      "Number of Classes: 5\n"
     ]
    },
    {
     "name": "stderr",
     "output_type": "stream",
     "text": [
      "/media/abdur-rafi/E69696F89696C907/workdir/workdir/machine_unlearning/SCRUB/main.py:209: FutureWarning: You are using `torch.load` with `weights_only=False` (the current default value), which uses the default pickle module implicitly. It is possible to construct malicious pickle data which will execute arbitrary code during unpickling (See https://github.com/pytorch/pytorch/blob/main/SECURITY.md#untrusted-models for more details). In a future release, the default value for `weights_only` will be flipped to `True`. This limits the functions that could be executed during unpickling. Arbitrary objects will no longer be allowed to be loaded via this mode unless they are explicitly allowlisted by the user via `torch.serialization.add_safe_globals`. We recommend you start setting `weights_only=True` for any use case where you don't have full control of the loaded file. Please open an issue on GitHub for any issues related to this experimental feature.\n",
      "  state = torch.load(args.resume)\n",
      "/media/abdur-rafi/E69696F89696C907/workdir/workdir/machine_unlearning/SCRUB/main.py:76: DeprecationWarning: Bitwise inversion '~' on bool is deprecated. This returns the bitwise inversion of the underlying int object and is usually not what you expect from negating a bool. Use the 'not' operator for boolean negation or ~int(x) if you really want the bitwise inversion of the underlying int.\n",
      "  if ~quiet:\n"
     ]
    },
    {
     "name": "stdout",
     "output_type": "stream",
     "text": [
      "[0] train metrics:{\"loss\": 1.6144048271179199, \"error\": 0.73}\n",
      "Learning Rate : 0.01\n",
      "[0] test metrics:{\"loss\": 1.4179643049240112, \"error\": 0.6040000007152557}\n",
      "Learning Rate : 0.01\n",
      "Epoch Time: 4.0 sec\n",
      "[1] train metrics:{\"loss\": 1.291864912033081, \"error\": 0.504}\n",
      "Learning Rate : 0.01\n",
      "Epoch Time: 1.02 sec\n",
      "[2] train metrics:{\"loss\": 1.0305592136383057, \"error\": 0.34999999904632567}\n",
      "Learning Rate : 0.01\n",
      "Epoch Time: 1.15 sec\n",
      "[3] train metrics:{\"loss\": 0.8472715206146241, \"error\": 0.2700000071525574}\n",
      "Learning Rate : 0.01\n",
      "Epoch Time: 1.14 sec\n",
      "[4] train metrics:{\"loss\": 0.7355619683265686, \"error\": 0.24600000667572022}\n",
      "Learning Rate : 0.01\n",
      "Epoch Time: 1.15 sec\n",
      "[5] train metrics:{\"loss\": 0.656424608707428, \"error\": 0.21400000476837158}\n",
      "Learning Rate : 0.01\n",
      "Epoch Time: 1.36 sec\n",
      "[6] train metrics:{\"loss\": 0.6007857422828674, \"error\": 0.1819999957084656}\n",
      "Learning Rate : 0.01\n",
      "Epoch Time: 1.04 sec\n",
      "[7] train metrics:{\"loss\": 0.547546621799469, \"error\": 0.16200000143051146}\n",
      "Learning Rate : 0.01\n",
      "Epoch Time: 1.14 sec\n",
      "[8] train metrics:{\"loss\": 0.4873452534675598, \"error\": 0.1260000057220459}\n",
      "Learning Rate : 0.01\n",
      "Epoch Time: 1.14 sec\n",
      "[9] train metrics:{\"loss\": 0.4439972810745239, \"error\": 0.08600000619888305}\n",
      "Learning Rate : 0.01\n",
      "Epoch Time: 1.13 sec\n",
      "[10] train metrics:{\"loss\": 0.4072556314468384, \"error\": 0.06600000667572022}\n",
      "Learning Rate : 0.01\n",
      "Epoch Time: 1.37 sec\n",
      "[11] train metrics:{\"loss\": 0.37264589405059817, \"error\": 0.04599999523162842}\n",
      "Learning Rate : 0.01\n",
      "Epoch Time: 1.02 sec\n",
      "[12] train metrics:{\"loss\": 0.34932229924201963, \"error\": 0.026000006675720215}\n",
      "Learning Rate : 0.01\n",
      "Epoch Time: 1.13 sec\n",
      "[13] train metrics:{\"loss\": 0.32386485195159914, \"error\": 0.01599999761581421}\n",
      "Learning Rate : 0.01\n",
      "Epoch Time: 1.14 sec\n",
      "[14] train metrics:{\"loss\": 0.31247007179260256, \"error\": 0.01}\n",
      "Learning Rate : 0.01\n",
      "Epoch Time: 1.14 sec\n",
      "[15] train metrics:{\"loss\": 0.2943449022769928, \"error\": 0.005999997615814209}\n",
      "Learning Rate : 0.01\n",
      "Epoch Time: 1.35 sec\n",
      "[16] train metrics:{\"loss\": 0.28729252934455873, \"error\": 0.003999997615814209}\n",
      "Learning Rate : 0.01\n",
      "Epoch Time: 1.01 sec\n",
      "[17] train metrics:{\"loss\": 0.28093622088432313, \"error\": 0.002}\n",
      "Learning Rate : 0.01\n",
      "Epoch Time: 1.14 sec\n",
      "[18] train metrics:{\"loss\": 0.2747735724449158, \"error\": 0.0}\n",
      "Learning Rate : 0.01\n",
      "Epoch Time: 1.14 sec\n",
      "[19] train metrics:{\"loss\": 0.2705130941867828, \"error\": 0.0}\n",
      "Learning Rate : 0.01\n",
      "Epoch Time: 1.13 sec\n",
      "[20] train metrics:{\"loss\": 0.26657644438743594, \"error\": 0.0}\n",
      "Learning Rate : 0.01\n",
      "Epoch Time: 1.34 sec\n",
      "[21] train metrics:{\"loss\": 0.2628895478248596, \"error\": 0.0}\n",
      "Learning Rate : 0.01\n",
      "Epoch Time: 0.97 sec\n",
      "[22] train metrics:{\"loss\": 0.2591664125919342, \"error\": 0.0}\n",
      "Learning Rate : 0.01\n",
      "Epoch Time: 1.09 sec\n",
      "[23] train metrics:{\"loss\": 0.25723927092552185, \"error\": 0.0}\n",
      "Learning Rate : 0.01\n",
      "Epoch Time: 1.09 sec\n",
      "[24] train metrics:{\"loss\": 0.2552718770503998, \"error\": 0.0}\n",
      "Learning Rate : 0.01\n",
      "Epoch Time: 1.1 sec\n",
      "[25] train metrics:{\"loss\": 0.25262451434135436, \"error\": 0.0}\n",
      "Learning Rate : 0.01\n",
      "Epoch Time: 1.31 sec\n",
      "[26] train metrics:{\"loss\": 0.2505110578536987, \"error\": 0.0}\n",
      "Learning Rate : 0.01\n",
      "Epoch Time: 0.99 sec\n",
      "[27] train metrics:{\"loss\": 0.2494673547744751, \"error\": 0.0}\n",
      "Learning Rate : 0.01\n",
      "Epoch Time: 1.11 sec\n",
      "[28] train metrics:{\"loss\": 0.2476180682182312, \"error\": 0.0}\n",
      "Learning Rate : 0.01\n",
      "Epoch Time: 1.11 sec\n",
      "[29] train metrics:{\"loss\": 0.24516680765151977, \"error\": 0.0}\n",
      "Learning Rate : 0.01\n",
      "Epoch Time: 1.12 sec\n",
      "[30] train metrics:{\"loss\": 0.2435822573900223, \"error\": 0.0}\n",
      "Learning Rate : 0.01\n",
      "Epoch Time: 1.34 sec\n",
      "Pure training time: 36.49 sec\n"
     ]
    }
   ],
   "source": [
    "%run main.py --dataset small_cifar5 --model resnet --dataroot=data/cifar5/ --filters 0.4 --lr 0.01 \\\n",
    "--resume checkpoints/cifar100_resnet_0_4_forget_None_lr_0_1_bs_128_ls_ce_wd_0_0005_seed_1_30.pt \\\n",
    "--disable-bn \\\n",
    "--weight-decay 0.1 --batch-size 128 --epochs 31 --seed 1"
   ]
  },
  {
   "cell_type": "code",
   "execution_count": null,
   "metadata": {},
   "outputs": [],
   "source": [
    "%run main.py --dataset small_lacuna6 --model allcnn --dataroot=data/lacuna10/ --filters 1.0 --lr 0.001 \\\n",
    "--disable-bn \\\n",
    "--weight-decay 0.1 --batch-size 128 --epochs 31 --seed 3"
   ]
  },
  {
   "cell_type": "code",
   "execution_count": null,
   "metadata": {
    "scrolled": true
   },
   "outputs": [],
   "source": [
    "%run main.py --dataset small_lacuna6 --model allcnn --dataroot=data/lacuna10/ --filters 1.0 --lr 0.001 \\\n",
    "--resume checkpoints/lacuna100_allcnn_1_0_forget_None_lr_0_1_bs_128_ls_ce_wd_0_0005_seed_1_30.pt --disable-bn \\\n",
    "--weight-decay 0.1 --batch-size 128 --epochs 31 --seed 3"
   ]
  },
  {
   "cell_type": "markdown",
   "metadata": {},
   "source": [
    "## Retrain Forgetting"
   ]
  },
  {
   "cell_type": "code",
   "execution_count": 20,
   "metadata": {},
   "outputs": [
    {
     "name": "stdout",
     "output_type": "stream",
     "text": [
      "Checkpoint name: small_cifar5_resnet_0_4_forget_[0]_num_25_lr_0_01_bs_128_ls_ce_wd_0_1_seed_1\n",
      "[Logging in small_cifar5_resnet_0_4_forget_[0]_num_25_lr_0_01_bs_128_ls_ce_wd_0_1_seed_1_training]\n",
      "use_cuda:  True\n",
      "Files already downloaded and verified\n",
      "Files already downloaded and verified\n",
      "confuse mode: False\n",
      "split mode: None\n",
      "Replacing indexes [26 86  2 55 75 93 16 73 54 95 53 92 78 13  7 30 22 24 33  8 43 62  3 71\n",
      " 45]\n",
      "Number of Classes: 5\n"
     ]
    },
    {
     "name": "stderr",
     "output_type": "stream",
     "text": [
      "/media/abdur-rafi/E69696F89696C907/workdir/workdir/machine_unlearning/SCRUB/main.py:209: FutureWarning: You are using `torch.load` with `weights_only=False` (the current default value), which uses the default pickle module implicitly. It is possible to construct malicious pickle data which will execute arbitrary code during unpickling (See https://github.com/pytorch/pytorch/blob/main/SECURITY.md#untrusted-models for more details). In a future release, the default value for `weights_only` will be flipped to `True`. This limits the functions that could be executed during unpickling. Arbitrary objects will no longer be allowed to be loaded via this mode unless they are explicitly allowlisted by the user via `torch.serialization.add_safe_globals`. We recommend you start setting `weights_only=True` for any use case where you don't have full control of the loaded file. Please open an issue on GitHub for any issues related to this experimental feature.\n",
      "  state = torch.load(args.resume)\n",
      "/media/abdur-rafi/E69696F89696C907/workdir/workdir/machine_unlearning/SCRUB/main.py:76: DeprecationWarning: Bitwise inversion '~' on bool is deprecated. This returns the bitwise inversion of the underlying int object and is usually not what you expect from negating a bool. Use the 'not' operator for boolean negation or ~int(x) if you really want the bitwise inversion of the underlying int.\n",
      "  if ~quiet:\n"
     ]
    },
    {
     "name": "stdout",
     "output_type": "stream",
     "text": [
      "[0] train metrics:{\"loss\": 1.5854647598266602, \"error\": 0.7160000002384186}\n",
      "Learning Rate : 0.01\n",
      "[0] test metrics:{\"loss\": 1.4271110534667968, \"error\": 0.6059999985694885}\n",
      "Learning Rate : 0.01\n",
      "Epoch Time: 1.77 sec\n",
      "[1] train metrics:{\"loss\": 1.2655334634780884, \"error\": 0.4920000047683716}\n",
      "Learning Rate : 0.01\n",
      "Epoch Time: 1.03 sec\n",
      "[2] train metrics:{\"loss\": 1.0058748774528503, \"error\": 0.33999999713897705}\n",
      "Learning Rate : 0.01\n",
      "Epoch Time: 1.16 sec\n",
      "[3] train metrics:{\"loss\": 0.8302149057388306, \"error\": 0.26199999570846555}\n",
      "Learning Rate : 0.01\n",
      "Epoch Time: 1.15 sec\n",
      "[4] train metrics:{\"loss\": 0.7158384685516357, \"error\": 0.2259999976158142}\n",
      "Learning Rate : 0.01\n",
      "Epoch Time: 1.15 sec\n",
      "[5] train metrics:{\"loss\": 0.6378942623138427, \"error\": 0.20400000286102296}\n",
      "Learning Rate : 0.01\n",
      "Epoch Time: 1.37 sec\n",
      "[6] train metrics:{\"loss\": 0.5776809320449829, \"error\": 0.17199999809265137}\n",
      "Learning Rate : 0.01\n",
      "Epoch Time: 1.04 sec\n",
      "[7] train metrics:{\"loss\": 0.5231930131912231, \"error\": 0.14800000143051148}\n",
      "Learning Rate : 0.01\n",
      "Epoch Time: 1.16 sec\n",
      "[8] train metrics:{\"loss\": 0.4672322905063629, \"error\": 0.1140000057220459}\n",
      "Learning Rate : 0.01\n",
      "Epoch Time: 1.14 sec\n",
      "[9] train metrics:{\"loss\": 0.4243533565998077, \"error\": 0.07799999475479126}\n",
      "Learning Rate : 0.01\n",
      "Epoch Time: 1.15 sec\n",
      "[10] train metrics:{\"loss\": 0.3915681254863739, \"error\": 0.06600000190734863}\n",
      "Learning Rate : 0.01\n",
      "Epoch Time: 1.37 sec\n",
      "[11] train metrics:{\"loss\": 0.3565507373809814, \"error\": 0.04400000667572022}\n",
      "Learning Rate : 0.01\n",
      "Epoch Time: 1.04 sec\n",
      "[12] train metrics:{\"loss\": 0.3331824803352356, \"error\": 0.030000006675720215}\n",
      "Learning Rate : 0.01\n",
      "Epoch Time: 1.14 sec\n",
      "[13] train metrics:{\"loss\": 0.31236457467079165, \"error\": 0.01599999761581421}\n",
      "Learning Rate : 0.01\n",
      "Epoch Time: 1.15 sec\n",
      "[14] train metrics:{\"loss\": 0.2999412410259247, \"error\": 0.011999997615814209}\n",
      "Learning Rate : 0.01\n",
      "Epoch Time: 1.14 sec\n",
      "[15] train metrics:{\"loss\": 0.28460003638267517, \"error\": 0.005999997615814209}\n",
      "Learning Rate : 0.01\n",
      "Epoch Time: 1.35 sec\n",
      "[16] train metrics:{\"loss\": 0.2778907015323639, \"error\": 0.005999997615814209}\n",
      "Learning Rate : 0.01\n",
      "Epoch Time: 1.03 sec\n",
      "[17] train metrics:{\"loss\": 0.2716825180053711, \"error\": 0.002}\n",
      "Learning Rate : 0.01\n",
      "Epoch Time: 1.17 sec\n",
      "[18] train metrics:{\"loss\": 0.26594236826896667, \"error\": 0.0}\n",
      "Learning Rate : 0.01\n",
      "Epoch Time: 1.18 sec\n",
      "[19] train metrics:{\"loss\": 0.26163380169868466, \"error\": 0.0}\n",
      "Learning Rate : 0.01\n",
      "Epoch Time: 1.17 sec\n",
      "[20] train metrics:{\"loss\": 0.25832894802093503, \"error\": 0.0}\n",
      "Learning Rate : 0.01\n",
      "Epoch Time: 1.38 sec\n",
      "[21] train metrics:{\"loss\": 0.25465306985378267, \"error\": 0.0}\n",
      "Learning Rate : 0.01\n",
      "Epoch Time: 1.04 sec\n",
      "[22] train metrics:{\"loss\": 0.2511473336219788, \"error\": 0.0}\n",
      "Learning Rate : 0.01\n",
      "Epoch Time: 1.2 sec\n",
      "[23] train metrics:{\"loss\": 0.24907180809974672, \"error\": 0.0}\n",
      "Learning Rate : 0.01\n",
      "Epoch Time: 0.67 sec\n",
      "[24] train metrics:{\"loss\": 0.24695569908618928, \"error\": 0.0}\n",
      "Learning Rate : 0.01\n",
      "Epoch Time: 1.29 sec\n",
      "[25] train metrics:{\"loss\": 0.24420265388488768, \"error\": 0.0}\n",
      "Learning Rate : 0.01\n",
      "Epoch Time: 1.51 sec\n",
      "[26] train metrics:{\"loss\": 0.24248434329032897, \"error\": 0.0}\n",
      "Learning Rate : 0.01\n",
      "Epoch Time: 1.14 sec\n",
      "[27] train metrics:{\"loss\": 0.24134552896022796, \"error\": 0.0}\n",
      "Learning Rate : 0.01\n",
      "Epoch Time: 1.29 sec\n",
      "[28] train metrics:{\"loss\": 0.23983726739883424, \"error\": 0.0}\n",
      "Learning Rate : 0.01\n",
      "Epoch Time: 1.31 sec\n",
      "[29] train metrics:{\"loss\": 0.23701159393787383, \"error\": 0.0}\n",
      "Learning Rate : 0.01\n",
      "Epoch Time: 1.35 sec\n",
      "[30] train metrics:{\"loss\": 0.2355260227918625, \"error\": 0.0}\n",
      "Learning Rate : 0.01\n",
      "Epoch Time: 2.68 sec\n",
      "Pure training time: 36.64000000000001 sec\n"
     ]
    }
   ],
   "source": [
    "%run main.py --dataset small_cifar5 --model resnet --dataroot=data/cifar5/ --filters 0.4 --lr 0.01 \\\n",
    "--resume checkpoints/cifar100_resnet_0_4_forget_None_lr_0_1_bs_128_ls_ce_wd_0_0005_seed_1_30.pt --disable-bn \\\n",
    "--weight-decay 0.1 --batch-size 128 --epochs 31 \\\n",
    "--forget-class 0 --num-to-forget 25 --seed 1"
   ]
  },
  {
   "cell_type": "code",
   "execution_count": null,
   "metadata": {
    "scrolled": true
   },
   "outputs": [],
   "source": [
    "%run main.py --dataset small_lacuna6 --model allcnn --dataroot=data/lacuna10/ --filters 1.0 --lr 0.001 \\\n",
    "--resume checkpoints/lacuna100_allcnn_1_0_forget_None_lr_0_1_bs_128_ls_ce_wd_0_0005_seed_1_30.pt --disable-bn \\\n",
    "--weight-decay 0.1 --batch-size 128 --epochs 31 \\\n",
    "--forget-class 0,1,2,3,4,5 --num-to-forget 300 --seed 3"
   ]
  },
  {
   "cell_type": "markdown",
   "metadata": {},
   "source": [
    "#### Logs"
   ]
  },
  {
   "cell_type": "code",
   "execution_count": 21,
   "metadata": {},
   "outputs": [],
   "source": [
    "log_dict={}\n",
    "training_epochs=30"
   ]
  },
  {
   "cell_type": "code",
   "execution_count": 22,
   "metadata": {},
   "outputs": [],
   "source": [
    "log_dict['epoch']=training_epochs"
   ]
  },
  {
   "cell_type": "code",
   "execution_count": 24,
   "metadata": {},
   "outputs": [
    {
     "name": "stdout",
     "output_type": "stream",
     "text": [
      "Total Number of Parameters: 1787741\n"
     ]
    }
   ],
   "source": [
    "\n",
    "parameter_count(copy.deepcopy(model))"
   ]
  },
  {
   "cell_type": "markdown",
   "metadata": {},
   "source": [
    "### Loads checkpoints"
   ]
  },
  {
   "cell_type": "code",
   "execution_count": 25,
   "metadata": {},
   "outputs": [
    {
     "name": "stdout",
     "output_type": "stream",
     "text": [
      "checkpoints/small_cifar5_resnet_0_4_forget_None_lr_0_01_bs_128_ls_ce_wd_0_1_seed_1_30.pt checkpoints/small_cifar5_resnet_0_4_forget_[0]_num_25_lr_0_01_bs_128_ls_ce_wd_0_1_seed_1_30.pt\n"
     ]
    },
    {
     "name": "stderr",
     "output_type": "stream",
     "text": [
      "/tmp/ipykernel_124696/2506117843.py:34: FutureWarning: You are using `torch.load` with `weights_only=False` (the current default value), which uses the default pickle module implicitly. It is possible to construct malicious pickle data which will execute arbitrary code during unpickling (See https://github.com/pytorch/pytorch/blob/main/SECURITY.md#untrusted-models for more details). In a future release, the default value for `weights_only` will be flipped to `True`. This limits the functions that could be executed during unpickling. Arbitrary objects will no longer be allowed to be loaded via this mode unless they are explicitly allowlisted by the user via `torch.serialization.add_safe_globals`. We recommend you start setting `weights_only=True` for any use case where you don't have full control of the loaded file. Please open an issue on GitHub for any issues related to this experimental feature.\n",
      "  model.load_state_dict(torch.load(m_name))\n",
      "/tmp/ipykernel_124696/2506117843.py:35: FutureWarning: You are using `torch.load` with `weights_only=False` (the current default value), which uses the default pickle module implicitly. It is possible to construct malicious pickle data which will execute arbitrary code during unpickling (See https://github.com/pytorch/pytorch/blob/main/SECURITY.md#untrusted-models for more details). In a future release, the default value for `weights_only` will be flipped to `True`. This limits the functions that could be executed during unpickling. Arbitrary objects will no longer be allowed to be loaded via this mode unless they are explicitly allowlisted by the user via `torch.serialization.add_safe_globals`. We recommend you start setting `weights_only=True` for any use case where you don't have full control of the loaded file. Please open an issue on GitHub for any issues related to this experimental feature.\n",
      "  model0.load_state_dict(torch.load(m0_name))\n",
      "/tmp/ipykernel_124696/2506117843.py:36: FutureWarning: You are using `torch.load` with `weights_only=False` (the current default value), which uses the default pickle module implicitly. It is possible to construct malicious pickle data which will execute arbitrary code during unpickling (See https://github.com/pytorch/pytorch/blob/main/SECURITY.md#untrusted-models for more details). In a future release, the default value for `weights_only` will be flipped to `True`. This limits the functions that could be executed during unpickling. Arbitrary objects will no longer be allowed to be loaded via this mode unless they are explicitly allowlisted by the user via `torch.serialization.add_safe_globals`. We recommend you start setting `weights_only=True` for any use case where you don't have full control of the loaded file. Please open an issue on GitHub for any issues related to this experimental feature.\n",
      "  model_initial.load_state_dict(torch.load(init_checkpoint))\n"
     ]
    }
   ],
   "source": [
    "import copy\n",
    "model0 = copy.deepcopy(model)\n",
    "model_initial = copy.deepcopy(model)\n",
    "\n",
    "arch = args.model \n",
    "filters=args.filters\n",
    "arch_filters = arch +'_'+ str(filters).replace('.','_')\n",
    "augment = False\n",
    "dataset = args.dataset\n",
    "class_to_forget = args.forget_class\n",
    "init_checkpoint = f\"checkpoints/{args.name}_init.pt\"\n",
    "num_classes=args.num_classes\n",
    "num_to_forget = args.num_to_forget\n",
    "num_total = len(train_loader.dataset)\n",
    "num_to_retain = num_total - 300#num_to_forget\n",
    "seed = args.seed\n",
    "unfreeze_start = None\n",
    "\n",
    "learningrate=f\"lr_{str(args.lr).replace('.','_')}\"\n",
    "batch_size=f\"_bs_{str(args.batch_size)}\"\n",
    "lossfn=f\"_ls_{args.lossfn}\"\n",
    "wd=f\"_wd_{str(args.weight_decay).replace('.','_')}\"\n",
    "seed_name=f\"_seed_{args.seed}_\"\n",
    "\n",
    "num_tag = '' if num_to_forget is None else f'_num_{num_to_forget}'\n",
    "unfreeze_tag = '_' if unfreeze_start is None else f'_unfreeze_from_{unfreeze_start}_'\n",
    "augment_tag = '' if not augment else f'augment_'\n",
    "\n",
    "m_name = f'checkpoints/{dataset}_{arch_filters}_forget_None{unfreeze_tag}{augment_tag}{learningrate}{batch_size}{lossfn}{wd}{seed_name}{training_epochs}.pt'\n",
    "m0_name = f'checkpoints/{dataset}_{arch_filters}_forget_{class_to_forget}{num_tag}{unfreeze_tag}{augment_tag}{learningrate}{batch_size}{lossfn}{wd}{seed_name}{training_epochs}.pt'\n",
    "\n",
    "print(m_name, m0_name)\n",
    "\n",
    "model.load_state_dict(torch.load(m_name))\n",
    "model0.load_state_dict(torch.load(m0_name))\n",
    "model_initial.load_state_dict(torch.load(init_checkpoint))\n",
    "\n",
    "teacher = copy.deepcopy(model)\n",
    "student = copy.deepcopy(model)\n",
    "\n",
    "model.cuda()\n",
    "model0.cuda()\n",
    "\n",
    "\n",
    "for p in model.parameters():\n",
    "    p.data0 = p.data.clone()\n",
    "for p in model0.parameters():\n",
    "    p.data0 = p.data.clone()"
   ]
  },
  {
   "cell_type": "code",
   "execution_count": 26,
   "metadata": {},
   "outputs": [],
   "source": [
    "model_original = model\n",
    "model_retrained = model0"
   ]
  },
  {
   "cell_type": "code",
   "execution_count": null,
   "metadata": {},
   "outputs": [],
   "source": [
    "print(calculate_acc_loss(model, retain_loader, criterion))"
   ]
  },
  {
   "cell_type": "code",
   "execution_count": 27,
   "metadata": {},
   "outputs": [],
   "source": [
    "log_dict['args']=args"
   ]
  },
  {
   "cell_type": "markdown",
   "metadata": {},
   "source": [
    "### Distance between w(D) and w(D_r)"
   ]
  },
  {
   "cell_type": "code",
   "execution_count": 25,
   "metadata": {},
   "outputs": [],
   "source": [
    "def distance(model,model0):\n",
    "    distance=0\n",
    "    normalization=0\n",
    "    for (k, p), (k0, p0) in zip(model.named_parameters(), model0.named_parameters()):\n",
    "        space='  ' if 'bias' in k else ''\n",
    "        current_dist=(p.data0-p0.data0).pow(2).sum().item()\n",
    "        current_norm=p.data0.pow(2).sum().item()\n",
    "        distance+=current_dist\n",
    "        normalization+=current_norm\n",
    "    print(f'Distance: {np.sqrt(distance)}')\n",
    "    print(f'Normalized Distance: {1.0*np.sqrt(distance/normalization)}')\n",
    "    return 1.0*np.sqrt(distance/normalization)"
   ]
  },
  {
   "cell_type": "code",
   "execution_count": null,
   "metadata": {},
   "outputs": [],
   "source": [
    "log_dict['dist_Original_Retrain']=distance(model,model0)"
   ]
  },
  {
   "cell_type": "markdown",
   "metadata": {},
   "source": [
    "### Distance of w(D) from initialization"
   ]
  },
  {
   "cell_type": "code",
   "execution_count": 27,
   "metadata": {},
   "outputs": [],
   "source": [
    "def ntk_init(resume,seed=1):\n",
    "    manual_seed(seed)\n",
    "    model_init = models.get_model(arch, num_classes=num_classes, filters_percentage=filters).to(args.device)\n",
    "    model_init.load_state_dict(torch.load(resume))\n",
    "    return model_init"
   ]
  },
  {
   "cell_type": "code",
   "execution_count": null,
   "metadata": {},
   "outputs": [],
   "source": [
    "model_init = ntk_init(init_checkpoint,args.seed)\n",
    "for p in model_init.parameters():\n",
    "    p.data0 = p.data.clone()"
   ]
  },
  {
   "cell_type": "code",
   "execution_count": null,
   "metadata": {
    "scrolled": true
   },
   "outputs": [],
   "source": [
    "log_dict['dist_Original_Original_init']=distance(model_init,model)"
   ]
  },
  {
   "cell_type": "markdown",
   "metadata": {},
   "source": [
    "#### Data Loader"
   ]
  },
  {
   "cell_type": "code",
   "execution_count": 28,
   "metadata": {},
   "outputs": [],
   "source": [
    "args.retain_bs = 32\n",
    "args.forget_bs = 32"
   ]
  },
  {
   "cell_type": "code",
   "execution_count": 29,
   "metadata": {},
   "outputs": [
    {
     "name": "stdout",
     "output_type": "stream",
     "text": [
      "Files already downloaded and verified\n",
      "Files already downloaded and verified\n",
      "confuse mode: False\n",
      "split mode: train\n",
      "Files already downloaded and verified\n",
      "Files already downloaded and verified\n",
      "confuse mode: False\n",
      "split mode: train\n",
      "Replacing indexes [26 86  2 55 75 93 16 73 54 95 53 92 78 13  7 30 22 24 33  8 43 62  3 71\n",
      " 45]\n"
     ]
    }
   ],
   "source": [
    "train_loader_full, valid_loader_full, test_loader_full   = datasets.get_loaders(dataset, batch_size=args.batch_size, seed=seed, root=args.dataroot, augment=False, shuffle=True)\n",
    "marked_loader, _, _ = datasets.get_loaders(dataset, class_to_replace=class_to_forget, num_indexes_to_replace=num_to_forget, only_mark=True, batch_size=1, seed=seed, root=args.dataroot, augment=False, shuffle=True)\n",
    "\n",
    "def replace_loader_dataset(data_loader, dataset, batch_size=args.batch_size, seed=1, shuffle=True):\n",
    "    manual_seed(seed)\n",
    "    loader_args = {'num_workers': 0, 'pin_memory': False}\n",
    "    def _init_fn(worker_id):\n",
    "        np.random.seed(int(seed))\n",
    "    return torch.utils.data.DataLoader(dataset, batch_size=batch_size,num_workers=0,pin_memory=True,shuffle=shuffle)\n",
    "    \n",
    "forget_dataset = copy.deepcopy(marked_loader.dataset)\n",
    "marked = forget_dataset.targets < 0\n",
    "forget_dataset.data = forget_dataset.data[marked]\n",
    "forget_dataset.targets = - forget_dataset.targets[marked] - 1\n",
    "forget_loader = replace_loader_dataset(train_loader_full, forget_dataset, batch_size=args.forget_bs, seed=seed, shuffle=True)\n",
    "\n",
    "retain_dataset = copy.deepcopy(marked_loader.dataset)\n",
    "marked = retain_dataset.targets >= 0\n",
    "retain_dataset.data = retain_dataset.data[marked]\n",
    "retain_dataset.targets = retain_dataset.targets[marked]\n",
    "retain_loader = replace_loader_dataset(train_loader_full, retain_dataset, batch_size=args.retain_bs, seed=seed, shuffle=True)\n",
    "\n",
    "assert(len(forget_dataset) + len(retain_dataset) == len(train_loader_full.dataset))"
   ]
  },
  {
   "cell_type": "code",
   "execution_count": 30,
   "metadata": {},
   "outputs": [
    {
     "name": "stdout",
     "output_type": "stream",
     "text": [
      "25\n",
      "475\n",
      "500\n",
      "500\n",
      "{np.int64(0): 100, np.int64(1): 100, np.int64(2): 100, np.int64(3): 100, np.int64(4): 100}\n"
     ]
    }
   ],
   "source": [
    "print (len(forget_loader.dataset))\n",
    "print (len(retain_loader.dataset))\n",
    "print (len(test_loader_full.dataset))\n",
    "print (len(train_loader_full.dataset))\n",
    "from collections import Counter\n",
    "print(dict(Counter(train_loader_full.dataset.targets)))"
   ]
  },
  {
   "cell_type": "code",
   "execution_count": 31,
   "metadata": {},
   "outputs": [],
   "source": [
    "def calculate_acc_loss(net, dataloader, criterion):\n",
    "    net.eval()\n",
    "    total_samp = 0\n",
    "    total_acc = 0\n",
    "    total_loss = 0.0\n",
    "\n",
    "    for sample in dataloader:\n",
    "        images, labels = sample[0].to(DEVICE), sample[1].to(DEVICE)\n",
    "        _pred = net(images).to(DEVICE)\n",
    "        total_samp += len(labels)\n",
    "        loss = criterion(_pred, labels)\n",
    "        total_loss += loss.item()\n",
    "        total_acc += (_pred.max(1)[1] == labels).float().sum().item()\n",
    "\n",
    "    mean_loss = total_loss / len(dataloader)\n",
    "    mean_acc = total_acc / total_samp * 100.0\n",
    "\n",
    "    return mean_loss, mean_acc\n"
   ]
  },
  {
   "cell_type": "code",
   "execution_count": 47,
   "metadata": {},
   "outputs": [
    {
     "name": "stdout",
     "output_type": "stream",
     "text": [
      "(0.04754053925474485, 100.0)\n"
     ]
    }
   ],
   "source": [
    "DEVICE = args.device\n",
    "print(calculate_acc_loss(model_retrained, retain_loader, nn.CrossEntropyLoss()))"
   ]
  },
  {
   "cell_type": "markdown",
   "metadata": {},
   "source": [
    "## SCRUB Forgetting"
   ]
  },
  {
   "cell_type": "code",
   "execution_count": 172,
   "metadata": {},
   "outputs": [],
   "source": [
    "args.optim = 'adam'\n",
    "args.gamma = 1\n",
    "args.alpha = 0.5\n",
    "args.beta = 0\n",
    "args.smoothing = 0.5\n",
    "args.msteps = 3\n",
    "args.clip = 0.2\n",
    "args.sstart = 10\n",
    "args.kd_T = 2\n",
    "args.distill = 'kd'\n",
    "\n",
    "args.sgda_epochs = 10\n",
    "args.sgda_learning_rate = 0.0005\n",
    "args.lr_decay_epochs = [5,8,9]\n",
    "args.lr_decay_rate = 0.1\n",
    "args.sgda_weight_decay = 0.1#5e-4\n",
    "args.sgda_momentum = 0.9"
   ]
  },
  {
   "cell_type": "code",
   "execution_count": 37,
   "metadata": {},
   "outputs": [],
   "source": [
    "# modified\n",
    "args.optim = 'adam'\n",
    "args.gamma = 1\n",
    "args.alpha = 0.5\n",
    "args.beta = 0\n",
    "args.smoothing = 0.5\n",
    "args.msteps = 10\n",
    "args.clip = 0.2\n",
    "args.sstart = 10\n",
    "args.kd_T = 2\n",
    "args.distill = 'kd'\n",
    "\n",
    "args.sgda_epochs = 10\n",
    "args.sgda_learning_rate = 0.0005\n",
    "args.lr_decay_epochs = [5,8,9]\n",
    "args.lr_decay_rate = 0.1\n",
    "args.sgda_weight_decay = 0.1#5e-4\n",
    "args.sgda_momentum = 0.9"
   ]
  },
  {
   "cell_type": "code",
   "execution_count": 38,
   "metadata": {},
   "outputs": [],
   "source": [
    "model_t = copy.deepcopy(teacher)\n",
    "model_s = copy.deepcopy(student)"
   ]
  },
  {
   "cell_type": "code",
   "execution_count": 39,
   "metadata": {},
   "outputs": [],
   "source": [
    "module_list = nn.ModuleList([])\n",
    "module_list.append(model_s)\n",
    "trainable_list = nn.ModuleList([])\n",
    "trainable_list.append(model_s)\n",
    "\n",
    "criterion_cls = nn.CrossEntropyLoss()\n",
    "criterion_div = DistillKL(args.kd_T)\n",
    "criterion_kd = DistillKL(args.kd_T)\n",
    "\n",
    "\n",
    "criterion_list = nn.ModuleList([])\n",
    "criterion_list.append(criterion_cls)    # classification loss\n",
    "criterion_list.append(criterion_div)    # KL divergence loss, original knowledge distillation\n",
    "criterion_list.append(criterion_kd)     # other knowledge distillation loss\n",
    "\n",
    "# optimizer\n",
    "if args.optim == \"sgd\":\n",
    "    optimizer = optim.SGD(trainable_list.parameters(),\n",
    "                          lr=args.sgda_learning_rate,\n",
    "                          momentum=args.sgda_momentum,\n",
    "                          weight_decay=args.sgda_weight_decay)\n",
    "elif args.optim == \"adam\": \n",
    "    optimizer = optim.Adam(trainable_list.parameters(),\n",
    "                          lr=args.sgda_learning_rate,\n",
    "                          weight_decay=args.sgda_weight_decay)\n",
    "elif args.optim == \"rmsp\":\n",
    "    optimizer = optim.RMSprop(trainable_list.parameters(),\n",
    "                          lr=args.sgda_learning_rate,\n",
    "                          momentum=args.sgda_momentum,\n",
    "                          weight_decay=args.sgda_weight_decay)"
   ]
  },
  {
   "cell_type": "code",
   "execution_count": 40,
   "metadata": {},
   "outputs": [
    {
     "ename": "NameError",
     "evalue": "name 'swa_model' is not defined",
     "output_type": "error",
     "traceback": [
      "\u001b[0;31m---------------------------------------------------------------------------\u001b[0m",
      "\u001b[0;31mNameError\u001b[0m                                 Traceback (most recent call last)",
      "Cell \u001b[0;32mIn[40], line 8\u001b[0m\n\u001b[1;32m      6\u001b[0m \u001b[38;5;28;01mimport\u001b[39;00m \u001b[38;5;21;01mtorch\u001b[39;00m\u001b[38;5;21;01m.\u001b[39;00m\u001b[38;5;21;01mbackends\u001b[39;00m\u001b[38;5;21;01m.\u001b[39;00m\u001b[38;5;21;01mcudnn\u001b[39;00m \u001b[38;5;28;01mas\u001b[39;00m \u001b[38;5;21;01mcudnn\u001b[39;00m\n\u001b[1;32m      7\u001b[0m cudnn\u001b[38;5;241m.\u001b[39mbenchmark \u001b[38;5;241m=\u001b[39m \u001b[38;5;28;01mTrue\u001b[39;00m\n\u001b[0;32m----> 8\u001b[0m \u001b[43mswa_model\u001b[49m\u001b[38;5;241m.\u001b[39mcuda()\n",
      "\u001b[0;31mNameError\u001b[0m: name 'swa_model' is not defined"
     ]
    }
   ],
   "source": [
    "module_list.append(model_t)\n",
    "\n",
    "if torch.cuda.is_available():\n",
    "    module_list.cuda()\n",
    "    criterion_list.cuda()\n",
    "    import torch.backends.cudnn as cudnn\n",
    "    cudnn.benchmark = True\n",
    "    swa_model.cuda()"
   ]
  },
  {
   "cell_type": "code",
   "execution_count": 41,
   "metadata": {},
   "outputs": [
    {
     "name": "stdout",
     "output_type": "stream",
     "text": [
      "==> scrub unlearning ...\n"
     ]
    },
    {
     "name": "stderr",
     "output_type": "stream",
     "text": [
      "/media/abdur-rafi/E69696F89696C907/workdir/workdir/machine_unlearning/SCRUB/env/lib/python3.12/site-packages/torch/nn/_reduction.py:42: UserWarning: size_average and reduce args will be deprecated, please use reduction='sum' instead.\n",
      "  warnings.warn(warning.format(ret))\n"
     ]
    },
    {
     "name": "stdout",
     "output_type": "stream",
     "text": [
      " * Acc@1 84.632 \n",
      "maximize loss: -3.63\t minimize loss: 1.01\t train_acc: 84.63157653808594\n",
      "==> scrub unlearning ...\n",
      " * Acc@1 94.737 \n",
      "maximize loss: -4.15\t minimize loss: 0.55\t train_acc: 94.7368392944336\n",
      "==> scrub unlearning ...\n",
      " * Acc@1 97.895 \n",
      "maximize loss: -5.52\t minimize loss: 0.39\t train_acc: 97.89472961425781\n",
      "==> scrub unlearning ...\n",
      " * Acc@1 96.421 \n",
      "maximize loss: -6.74\t minimize loss: 0.42\t train_acc: 96.42105102539062\n",
      "==> scrub unlearning ...\n",
      " * Acc@1 97.895 \n",
      "maximize loss: -8.76\t minimize loss: 0.33\t train_acc: 97.89472961425781\n",
      "==> scrub unlearning ...\n",
      " * Acc@1 99.789 \n",
      "maximize loss: -12.11\t minimize loss: 0.23\t train_acc: 99.78946685791016\n",
      "==> scrub unlearning ...\n",
      " * Acc@1 99.368 \n",
      "maximize loss: -12.88\t minimize loss: 0.26\t train_acc: 99.36841583251953\n",
      "==> scrub unlearning ...\n",
      " * Acc@1 100.000 \n",
      "maximize loss: -13.52\t minimize loss: 0.25\t train_acc: 99.99999237060547\n",
      "==> scrub unlearning ...\n",
      " * Acc@1 99.789 \n",
      "maximize loss: -14.19\t minimize loss: 0.23\t train_acc: 99.78946685791016\n",
      "==> scrub unlearning ...\n",
      " * Acc@1 100.000 \n",
      "maximize loss: -14.26\t minimize loss: 0.25\t train_acc: 99.99999237060547\n"
     ]
    }
   ],
   "source": [
    "acc_rs = []\n",
    "acc_fs = []\n",
    "acc_ts = []\n",
    "for epoch in range(1, args.sgda_epochs + 1):\n",
    "\n",
    "    lr = sgda_adjust_learning_rate(epoch, args, optimizer)\n",
    "\n",
    "    print(\"==> scrub unlearning ...\")\n",
    "\n",
    "    acc_r, acc5_r, loss_r = validate(retain_loader, model_s, criterion_cls, args, True)\n",
    "    acc_f, acc5_f, loss_f = validate(forget_loader, model_s, criterion_cls, args, True)\n",
    "    acc_rs.append(100-acc_r.item())\n",
    "    acc_fs.append(100-acc_f.item())\n",
    "\n",
    "    maximize_loss = 0\n",
    "    if epoch <= args.msteps:\n",
    "        maximize_loss = train_distill(epoch, forget_loader, module_list, None, criterion_list, optimizer, args, \"maximize\")\n",
    "    train_acc, train_loss = train_distill(epoch, retain_loader, module_list, None, criterion_list, optimizer, args, \"minimize\",)\n",
    "\n",
    "    print (\"maximize loss: {:.2f}\\t minimize loss: {:.2f}\\t train_acc: {}\".format(maximize_loss, train_loss, train_acc))\n"
   ]
  },
  {
   "cell_type": "code",
   "execution_count": 46,
   "metadata": {},
   "outputs": [
    {
     "name": "stdout",
     "output_type": "stream",
     "text": [
      "(0.046985964228709536, 100.0)\n",
      "(0.052576228976249695, 100.0)\n",
      "(0.0594586580991745, 100.0)\n",
      "(3.5087485313415527, 40.0)\n",
      "(0.6925872266292572, 76.6)\n"
     ]
    }
   ],
   "source": [
    "print(calculate_acc_loss(model_t, retain_loader, nn.CrossEntropyLoss()))\n",
    "print(calculate_acc_loss(model_t, forget_loader, nn.CrossEntropyLoss()))\n",
    "print(calculate_acc_loss(model_s, retain_loader, nn.CrossEntropyLoss()))\n",
    "print(calculate_acc_loss(model_s, forget_loader, nn.CrossEntropyLoss()))\n",
    "print(calculate_acc_loss(model_s, test_loader, nn.CrossEntropyLoss()))"
   ]
  },
  {
   "cell_type": "code",
   "execution_count": 48,
   "metadata": {},
   "outputs": [
    {
     "data": {
      "text/plain": [
       "([7.62939453125e-06,\n",
       "  1.0526351928710938,\n",
       "  6.1052703857421875,\n",
       "  1.894744873046875,\n",
       "  2.1052703857421875,\n",
       "  2.736846923828125,\n",
       "  7.62939453125e-06,\n",
       "  7.62939453125e-06,\n",
       "  7.62939453125e-06,\n",
       "  7.62939453125e-06],\n",
       " [0.0, 8.0, 44.0, 40.0, 48.0, 56.0, 60.0, 60.0, 60.0, 64.0])"
      ]
     },
     "execution_count": 48,
     "metadata": {},
     "output_type": "execute_result"
    }
   ],
   "source": [
    "acc_rs, acc_fs"
   ]
  },
  {
   "cell_type": "code",
   "execution_count": 49,
   "metadata": {},
   "outputs": [
    {
     "data": {
      "image/png": "[encoded data removed]",
      "text/plain": [
       "<Figure size 640x480 with 1 Axes>"
      ]
     },
     "metadata": {},
     "output_type": "display_data"
    }
   ],
   "source": [
    "from matplotlib import pyplot as plt\n",
    "indices = list(range(0,len(acc_rs)))\n",
    "plt.plot(indices, acc_rs, marker='*', alpha=1, label='retain-set')\n",
    "plt.plot(indices, acc_fs, marker='o', alpha=1, label='forget-set')\n",
    "plt.legend(prop={'size': 14})\n",
    "plt.tick_params(labelsize=12)\n",
    "plt.title('scrub retain- and forget- set error',size=18)\n",
    "plt.xlabel('epoch',size=14)\n",
    "plt.ylabel('error',size=14)\n",
    "plt.show()"
   ]
  },
  {
   "cell_type": "markdown",
   "metadata": {},
   "source": [
    "# Component Based MU"
   ]
  },
  {
   "cell_type": "code",
   "execution_count": 193,
   "metadata": {},
   "outputs": [],
   "source": [
    "from torch.optim.optimizer import Optimizer, required\n",
    "\n",
    "DEVICE = args.device\n",
    "\n",
    "\n",
    "def copyOptimizer(frm : 'Optim', to : 'Optim'):\n",
    "    to.cummilated_perp_f_to_r = frm.cummilated_perp_f_to_r * 1\n",
    "    to.cumilated_perp_component_nf_to_nr = frm.cumilated_perp_component_nf_to_nr * 1\n",
    "    to.index_range = frm.index_range\n",
    "    to.lr = frm.lr\n",
    "    to.beta = frm.beta\n",
    "    \n",
    "\n",
    "\n",
    "class Optim(Optimizer):\n",
    "    def __init__(self, params, lr = required, beta = .9):\n",
    "        defaults = dict(lr = lr)\n",
    "        super(Optim, self).__init__(params, defaults)\n",
    "#         self.named_params = named_params\n",
    "        self.cummilated_perp_f_to_r = 0\n",
    "        self.cumilated_perp_component_nf_to_nr = 0\n",
    "        self.beta = beta\n",
    "        self.index_range = None\n",
    "        self.lr = lr\n",
    "\n",
    "    def __setstate__(self, state):\n",
    "        super(Optim, self).__setstate(state)\n",
    "\n",
    "    def find_component(self, direction, vector):\n",
    "        dot_prod = torch.dot(direction, vector)\n",
    "        direction_mag_sq = torch.dot(direction , direction)\n",
    "        return (dot_prod * direction) / direction_mag_sq\n",
    "\n",
    "    def create_index_range(self, r_grads):\n",
    "        with torch.no_grad():\n",
    "            index_range = {}\n",
    "            index = 0\n",
    "            for key in r_grads.keys():\n",
    "                r_grad_flat= torch.flatten(r_grads[key])\n",
    "                sz = r_grad_flat.shape[0]\n",
    "                index_range[key] = (index, index + sz )\n",
    "                index += sz\n",
    "            self.index_range = index_range\n",
    "\n",
    "    def step(self, named_params, r_grads, f_grads,normalize_component=True, gamma_r = 2, gamma_f = 1):\n",
    "        with torch.no_grad():\n",
    "            if self.index_range is None:\n",
    "                self.create_index_range(r_grads)\n",
    "\n",
    "            r_grads_flat, f_grads_flat = [], []\n",
    "            for key in r_grads.keys():\n",
    "                r_grad, f_grad = r_grads[key], f_grads[key]\n",
    "                r_grad_flat, f_grad_flat = torch.flatten(r_grad), torch.flatten(f_grad)\n",
    "                r_grads_flat.append(r_grad_flat)\n",
    "                f_grads_flat.append(f_grad_flat)\n",
    "\n",
    "            r_grads_flat, f_grads_flat = torch.cat(r_grads_flat), torch.cat(f_grads_flat)\n",
    "            component_f_to_r = self.find_component(r_grads_flat, f_grads_flat )\n",
    "            perp_component_f_to_r = f_grads_flat - component_f_to_r\n",
    "            if normalize_component:\n",
    "                perp_component_f_to_r /= torch.norm(perp_component_f_to_r)\n",
    "\n",
    "            self.cummilated_perp_f_to_r = self.cummilated_perp_f_to_r * self.beta + (1 - self.beta) * perp_component_f_to_r\n",
    "            component_nf_to_nr = self.find_component(-f_grads_flat, -r_grads_flat)\n",
    "            perp_component_nf_to_nr = (-r_grads_flat) - component_nf_to_nr\n",
    "\n",
    "            if normalize_component:\n",
    "                perp_component_nf_to_nr /= torch.norm(perp_component_nf_to_nr)\n",
    "            self.cumilated_perp_component_nf_to_nr = (self.cumilated_perp_component_nf_to_nr) * self.beta + (1-self.beta) * perp_component_nf_to_nr\n",
    "            net_grad = self.cummilated_perp_f_to_r * gamma_f + self.cumilated_perp_component_nf_to_nr * gamma_r\n",
    "\n",
    "            # print(f\"net norm: {torch.norm(net_grad)}\")\n",
    "\n",
    "            for name, param in named_params:\n",
    "                if param.grad != None:\n",
    "#                     print(f\"updating {name}\")\n",
    "                    rng = self.index_range[name]\n",
    "                    current_grad = net_grad[rng[0] : rng[1]].view_as(param)\n",
    "                    param += self.lr * current_grad\n",
    "\n",
    "            sim = torch.nn.functional.cosine_similarity(r_grads_flat, f_grads_flat, 0)\n",
    "            return torch.norm(perp_component_f_to_r), torch.norm(perp_component_nf_to_nr), torch.norm(net_grad), sim\n",
    "\n",
    "\n",
    "\n",
    "\n",
    "def initHistory():\n",
    "    history = {}\n",
    "    history[\"f_comp_norm\"] = []\n",
    "    history[\"r_comp_norm\"] = []\n",
    "    history[\"net_norm\"] = []\n",
    "    history[\"cosine_sim\"] = []\n",
    "    history[\"retain_loss\"] = []\n",
    "    history[\"forget_loss\"] = []\n",
    "    history[\"retain_acc\"] = []\n",
    "    history[\"forget_acc\"] = []\n",
    "    history[\"valid_acc\"] = []\n",
    "    history[\"valid_loss\"] = []\n",
    "    \n",
    "    return history\n",
    "\n",
    "def calculate_acc_loss(net, dataloader, criterion):\n",
    "    net.eval()\n",
    "    total_samp = 0\n",
    "    total_acc = 0\n",
    "    total_loss = 0.0\n",
    "\n",
    "    for sample in dataloader:\n",
    "        images, labels = sample[0].to(DEVICE), sample[1].to(DEVICE)\n",
    "        _pred = net(images).to(DEVICE)\n",
    "        total_samp += len(labels)\n",
    "        loss = criterion(_pred, labels)\n",
    "        total_loss += loss.item()\n",
    "        total_acc += (_pred.max(1)[1] == labels).float().sum().item()\n",
    "\n",
    "    mean_loss = total_loss / len(dataloader)\n",
    "    mean_acc = total_acc / total_samp * 100.0\n",
    "\n",
    "    return mean_loss, mean_acc\n",
    "\n",
    "def getModel():\n",
    "    model = copy.deepcopy(teacher)\n",
    "    return model\n",
    "\n",
    "def freezeBN(net):\n",
    "    for name, module in net.named_modules():\n",
    "        if isinstance(module, nn.BatchNorm2d):\n",
    "            module.eval()\n",
    "            for param in module.parameters():\n",
    "                param.requires_grad = False"
   ]
  },
  {
   "cell_type": "code",
   "execution_count": 194,
   "metadata": {},
   "outputs": [
    {
     "name": "stdout",
     "output_type": "stream",
     "text": [
      "epoch : 1\n",
      "Retain set accuracy: 100.00%\n",
      "Retain set loss: 0.06\n",
      "Forget set accuracy: 100.00%\n",
      "Forget set loss: 0.21\n",
      "Validation set accuracy: 73.60%\n",
      "Validation set loss: 0.76\n",
      "epoch : 2\n",
      "Retain set accuracy: 92.84%\n",
      "Retain set loss: 0.17\n",
      "Forget set accuracy: 52.00%\n",
      "Forget set loss: 1.23\n",
      "Validation set accuracy: 68.80%\n",
      "Validation set loss: 1.01\n",
      "epoch : 3\n",
      "Retain set accuracy: 86.32%\n",
      "Retain set loss: 0.46\n",
      "Forget set accuracy: 4.00%\n",
      "Forget set loss: 3.62\n",
      "Validation set accuracy: 60.80%\n",
      "Validation set loss: 1.47\n",
      "epoch : 4\n",
      "Retain set accuracy: 81.26%\n",
      "Retain set loss: 0.93\n",
      "Forget set accuracy: 0.00%\n",
      "Forget set loss: 7.19\n",
      "Validation set accuracy: 56.80%\n",
      "Validation set loss: 2.11\n",
      "epoch : 5\n",
      "Retain set accuracy: 78.32%\n",
      "Retain set loss: 1.60\n",
      "Forget set accuracy: 0.00%\n",
      "Forget set loss: 11.76\n",
      "Validation set accuracy: 53.60%\n",
      "Validation set loss: 2.95\n"
     ]
    }
   ],
   "source": [
    "\n",
    "def sampleLoss(net, sample, criterion):\n",
    "    inputs = sample[0].to(DEVICE)\n",
    "    labels = sample[1].to(DEVICE)\n",
    "    outputs = net(inputs).to(DEVICE)\n",
    "    loss = criterion(outputs,  labels)\n",
    "    return loss\n",
    "\n",
    "def grads(net, sample, criterion):\n",
    "    net.zero_grad()\n",
    "    loss = sampleLoss(net, sample, criterion)\n",
    "    loss.backward()\n",
    "    g = {}\n",
    "    with torch.no_grad():\n",
    "        for name, param in net.named_parameters():\n",
    "            if param.grad != None:\n",
    "                g[name] = param.grad.clone()\n",
    "        return g\n",
    "\n",
    "\n",
    "\n",
    "def one_set(\n",
    "        net, \n",
    "        optimizer, \n",
    "        epoch, \n",
    "        gamma_r, \n",
    "        gamma_f, \n",
    "        history, \n",
    "        max_iter,\n",
    "        iterateRetain = True\n",
    "    ):\n",
    "    itr = 0\n",
    "    \n",
    "    def oneIter(fsample, rsample):\n",
    "        nonlocal itr\n",
    "        rgrads = grads(net, rsample, criterion)\n",
    "        fgrads = grads(net, fsample, criterion)\n",
    "        a, b, c, d = optimizer.step( net.named_parameters(), rgrads, fgrads, gamma_r = gamma_r, gamma_f = gamma_f)\n",
    "        history[\"f_comp_norm\"].append(a)\n",
    "        history[\"r_comp_norm\"].append(b)\n",
    "        history[\"net_norm\"].append(c)\n",
    "        history[\"cosine_sim\"].append(d)\n",
    "        itr += 1\n",
    "\n",
    "\n",
    "\n",
    "    for e in range(epoch):\n",
    "        # net.train()\n",
    "        print(f\"epoch : {e + 1}\")\n",
    "        if iterateRetain:\n",
    "            for rsample in retain_loader:\n",
    "                fsample = next(iter(forget_loader))\n",
    "                oneIter(fsample, rsample)\n",
    "                if itr > max_iter:\n",
    "                    break\n",
    "        else:\n",
    "            for fsample in forget_loader:\n",
    "                rsample = next(iter(retain_loader))\n",
    "                oneIter(fsample, rsample)\n",
    "                if itr > max_iter:\n",
    "                    break\n",
    "\n",
    "        l, a = calculate_acc_loss(net, retain_loader, criterion)\n",
    "        history[\"retain_loss\"].append(l)\n",
    "        history[\"retain_acc\"].append(a)\n",
    "        print(f\"Retain set accuracy: {a:0.2f}%\")\n",
    "        print(f\"Retain set loss: {l:0.2f}\")\n",
    "        l, a = calculate_acc_loss(net, forget_loader, criterion)\n",
    "        history[\"forget_loss\"].append(l)\n",
    "        history[\"forget_acc\"].append(a)\n",
    "        print(f\"Forget set accuracy: {a:0.2f}%\")\n",
    "        print(f\"Forget set loss: {l:0.2f}\")\n",
    "        l, a = calculate_acc_loss(net, valid_loader_full, criterion)\n",
    "        history[\"valid_loss\"].append(l)\n",
    "        history[\"valid_acc\"].append(a)\n",
    "        print(f\"Validation set accuracy: {a:0.2f}%\")\n",
    "        print(f\"Validation set loss: {l:0.2f}\")\n",
    "\n",
    "        if itr > max_iter:\n",
    "            break\n",
    "\n",
    "\n",
    "\n",
    "net = getModel().to(DEVICE)\n",
    "freezeBN(net)\n",
    "# net.train()\n",
    "epoch = 5\n",
    "criterion = nn.CrossEntropyLoss()\n",
    "sample_iter = 100000\n",
    "forget_stage_history = initHistory()\n",
    "\n",
    "itr = 0\n",
    "\n",
    "# trying various combinations\n",
    "# for removing biases, we do not want the \n",
    "\n",
    "\n",
    "# calculate_acc_loss(net, forget_loader, criterion)\n",
    "optimizer = Optim(net.parameters(), lr = .5, beta = .9)\n",
    "one_set(net, optimizer, 5, 0, 1, forget_stage_history, sample_iter, False)\n",
    "# # optimizer = Optim(net.parameters(), lr = .1, beta = .99)\n",
    "# optimizer.lr = .1\n",
    "# one_set(net, optimizer, 7, 1, 0, history, sample_iter, True)\n"
   ]
  },
  {
   "cell_type": "code",
   "execution_count": 195,
   "metadata": {},
   "outputs": [],
   "source": [
    "def plot_history(history, showRetain = False):\n",
    "    print(history)\n",
    "    if showRetain:\n",
    "        plt.plot(history[\"retain_loss\"], label = \"retain loss\")\n",
    "    plt.plot(history[\"forget_loss\"], label = \"forget loss\")\n",
    "    plt.plot(history[\"valid_loss\"], label = \"validation loss\")\n",
    "    plt.grid()\n",
    "    plt.legend()\n",
    "    plt.show()\n",
    "\n",
    "    if showRetain:\n",
    "        plt.plot(history[\"retain_acc\"], label = \"retain acc\")\n",
    "    plt.plot(history[\"forget_acc\"], label = \"forget acc\")\n",
    "    plt.plot(history[\"valid_acc\"], label = \"validation acc\")\n",
    "    plt.grid()\n",
    "    plt.legend()\n",
    "    plt.show()\n"
   ]
  },
  {
   "cell_type": "code",
   "execution_count": 196,
   "metadata": {},
   "outputs": [
    {
     "name": "stdout",
     "output_type": "stream",
     "text": [
      "{'f_comp_norm': [tensor(1., device='cuda:0'), tensor(1.0000, device='cuda:0'), tensor(1., device='cuda:0'), tensor(1.0000, device='cuda:0'), tensor(1., device='cuda:0')], 'r_comp_norm': [tensor(1., device='cuda:0'), tensor(1., device='cuda:0'), tensor(1.0000, device='cuda:0'), tensor(1., device='cuda:0'), tensor(1., device='cuda:0')], 'net_norm': [tensor(0.1000, device='cuda:0'), tensor(0.1813, device='cuda:0'), tensor(0.2354, device='cuda:0'), tensor(0.2847, device='cuda:0'), tensor(0.3304, device='cuda:0')], 'cosine_sim': [tensor(-0.2343, device='cuda:0'), tensor(0.5624, device='cuda:0'), tensor(0.8057, device='cuda:0'), tensor(0.6494, device='cuda:0'), tensor(0.6840, device='cuda:0')], 'retain_loss': [0.05977804486950238, 0.17381974756717683, 0.46204277575016023, 0.9318134705225627, 1.599582854906718], 'forget_loss': [0.213434636592865, 1.2296942472457886, 3.619032621383667, 7.188755512237549, 11.760475158691406], 'retain_acc': [100.0, 92.84210526315789, 86.31578947368422, 81.26315789473684, 78.3157894736842], 'forget_acc': [100.0, 52.0, 4.0, 0.0, 0.0], 'valid_acc': [73.6, 68.8, 60.8, 56.8, 53.6], 'valid_loss': [0.7614331841468811, 1.0078911781311035, 1.4659323692321777, 2.11080265045166, 2.948286771774292]}\n"
     ]
    },
    {
     "data": {
      "image/png": "[encoded data removed]",
      "text/plain": [
       "<Figure size 640x480 with 1 Axes>"
      ]
     },
     "metadata": {},
     "output_type": "display_data"
    },
    {
     "data": {
      "image/png": "[encoded data removed]",
      "text/plain": [
       "<Figure size 640x480 with 1 Axes>"
      ]
     },
     "metadata": {},
     "output_type": "display_data"
    }
   ],
   "source": [
    "\n",
    "# print(forget_stage_history, True)\n",
    "plot_history(forget_stage_history)"
   ]
  },
  {
   "cell_type": "code",
   "execution_count": 197,
   "metadata": {},
   "outputs": [
    {
     "name": "stdout",
     "output_type": "stream",
     "text": [
      "retain : \t (1.6050891995429992, 78.3157894736842)\n",
      "forget : \t (11.760476112365723, 0.0)\n",
      "valid : \t (2.948286771774292, 53.6)\n",
      "org valid : \t (0.7161650657653809, 76.0)\n",
      "std valid : \t (0.6877143383026123, 79.2)\n",
      "ret valid : \t (0.7313045859336853, 74.4)\n"
     ]
    }
   ],
   "source": [
    "print( \"retain : \\t\", calculate_acc_loss(net, retain_loader, nn.CrossEntropyLoss()))\n",
    "print( \"forget : \\t\", calculate_acc_loss(net, forget_loader, nn.CrossEntropyLoss()))\n",
    "print( \"valid : \\t\", calculate_acc_loss(net, valid_loader_full, nn.CrossEntropyLoss()))\n",
    "print( \"org valid : \\t\", calculate_acc_loss(model_original, valid_loader_full, nn.CrossEntropyLoss()))\n",
    "print( \"std valid : \\t\", calculate_acc_loss(model_s, valid_loader_full, nn.CrossEntropyLoss()))\n",
    "print( \"ret valid : \\t\", calculate_acc_loss(model_retrained, valid_loader_full, nn.CrossEntropyLoss()))"
   ]
  },
  {
   "cell_type": "code",
   "execution_count": 202,
   "metadata": {},
   "outputs": [],
   "source": [
    "model_after_forget = copy.deepcopy(net)\n",
    "optimizer_retain = Optim(model_after_forget.parameters(), lr = .1, beta = .9)\n",
    "copyOptimizer(optimizer, optimizer_retain)\n"
   ]
  },
  {
   "cell_type": "code",
   "execution_count": 203,
   "metadata": {},
   "outputs": [
    {
     "name": "stdout",
     "output_type": "stream",
     "text": [
      "epoch : 1\n",
      "Retain set accuracy: 85.68%\n",
      "Retain set loss: 0.51\n",
      "Forget set accuracy: 4.00%\n",
      "Forget set loss: 20.50\n",
      "Validation set accuracy: 65.60%\n",
      "Validation set loss: 1.62\n",
      "epoch : 2\n",
      "Retain set accuracy: 99.16%\n",
      "Retain set loss: 0.05\n",
      "Forget set accuracy: 4.00%\n",
      "Forget set loss: 13.40\n",
      "Validation set accuracy: 67.20%\n",
      "Validation set loss: 1.22\n",
      "epoch : 3\n",
      "Retain set accuracy: 99.58%\n",
      "Retain set loss: 0.02\n",
      "Forget set accuracy: 16.00%\n",
      "Forget set loss: 9.61\n",
      "Validation set accuracy: 75.20%\n",
      "Validation set loss: 0.96\n",
      "epoch : 4\n",
      "Retain set accuracy: 99.79%\n",
      "Retain set loss: 0.01\n",
      "Forget set accuracy: 20.00%\n",
      "Forget set loss: 9.18\n",
      "Validation set accuracy: 69.60%\n",
      "Validation set loss: 1.14\n",
      "epoch : 5\n",
      "Retain set accuracy: 99.58%\n",
      "Retain set loss: 0.01\n",
      "Forget set accuracy: 12.00%\n",
      "Forget set loss: 11.11\n",
      "Validation set accuracy: 72.00%\n",
      "Validation set loss: 1.58\n",
      "epoch : 6\n",
      "Retain set accuracy: 99.79%\n",
      "Retain set loss: 0.00\n",
      "Forget set accuracy: 8.00%\n",
      "Forget set loss: 13.80\n",
      "Validation set accuracy: 76.80%\n",
      "Validation set loss: 1.54\n",
      "epoch : 7\n",
      "Retain set accuracy: 100.00%\n",
      "Retain set loss: 0.00\n",
      "Forget set accuracy: 8.00%\n",
      "Forget set loss: 15.58\n",
      "Validation set accuracy: 73.60%\n",
      "Validation set loss: 1.78\n",
      "epoch : 8\n",
      "Retain set accuracy: 99.79%\n",
      "Retain set loss: 0.01\n",
      "Forget set accuracy: 12.00%\n",
      "Forget set loss: 19.82\n",
      "Validation set accuracy: 73.60%\n",
      "Validation set loss: 2.22\n",
      "epoch : 9\n",
      "Retain set accuracy: 99.79%\n",
      "Retain set loss: 0.02\n",
      "Forget set accuracy: 12.00%\n",
      "Forget set loss: 36.37\n",
      "Validation set accuracy: 77.60%\n",
      "Validation set loss: 3.09\n"
     ]
    }
   ],
   "source": [
    "retain_stage_history = initHistory()\n",
    "one_set(model_after_forget, optimizer_retain, 9, 1, 0, retain_stage_history, sample_iter, True)\n"
   ]
  },
  {
   "cell_type": "code",
   "execution_count": 204,
   "metadata": {},
   "outputs": [
    {
     "name": "stdout",
     "output_type": "stream",
     "text": [
      "{'f_comp_norm': [tensor(1.0000, device='cuda:0'), tensor(1., device='cuda:0'), tensor(1.0000, device='cuda:0'), tensor(1., device='cuda:0'), tensor(1., device='cuda:0'), tensor(1., device='cuda:0'), tensor(1., device='cuda:0'), tensor(1., device='cuda:0'), tensor(1., device='cuda:0'), tensor(1., device='cuda:0'), tensor(1.0000, device='cuda:0'), tensor(1., device='cuda:0'), tensor(1., device='cuda:0'), tensor(1.0000, device='cuda:0'), tensor(1., device='cuda:0'), tensor(1., device='cuda:0'), tensor(1., device='cuda:0'), tensor(1.0000, device='cuda:0'), tensor(1., device='cuda:0'), tensor(1., device='cuda:0'), tensor(1., device='cuda:0'), tensor(1.0000, device='cuda:0'), tensor(1.0000, device='cuda:0'), tensor(1.0000, device='cuda:0'), tensor(1., device='cuda:0'), tensor(1., device='cuda:0'), tensor(1., device='cuda:0'), tensor(1., device='cuda:0'), tensor(1., device='cuda:0'), tensor(1., device='cuda:0'), tensor(1., device='cuda:0'), tensor(1., device='cuda:0'), tensor(1., device='cuda:0'), tensor(1., device='cuda:0'), tensor(1.0000, device='cuda:0'), tensor(1., device='cuda:0'), tensor(1.0000, device='cuda:0'), tensor(1., device='cuda:0'), tensor(1., device='cuda:0'), tensor(1., device='cuda:0'), tensor(1., device='cuda:0'), tensor(1.0000, device='cuda:0'), tensor(1.0000, device='cuda:0'), tensor(1., device='cuda:0'), tensor(1., device='cuda:0'), tensor(1., device='cuda:0'), tensor(1., device='cuda:0'), tensor(1., device='cuda:0'), tensor(1., device='cuda:0'), tensor(1., device='cuda:0'), tensor(1.0000, device='cuda:0'), tensor(1., device='cuda:0'), tensor(1., device='cuda:0'), tensor(1., device='cuda:0'), tensor(1., device='cuda:0'), tensor(1., device='cuda:0'), tensor(1., device='cuda:0'), tensor(1., device='cuda:0'), tensor(1., device='cuda:0'), tensor(1., device='cuda:0'), tensor(1., device='cuda:0'), tensor(1., device='cuda:0'), tensor(1., device='cuda:0'), tensor(1., device='cuda:0'), tensor(1., device='cuda:0'), tensor(1.0000, device='cuda:0'), tensor(1., device='cuda:0'), tensor(1., device='cuda:0'), tensor(1., device='cuda:0'), tensor(1., device='cuda:0'), tensor(1., device='cuda:0'), tensor(1.0000, device='cuda:0'), tensor(1., device='cuda:0'), tensor(1., device='cuda:0'), tensor(1., device='cuda:0'), tensor(1.0000, device='cuda:0'), tensor(1.0000, device='cuda:0'), tensor(1., device='cuda:0'), tensor(1., device='cuda:0'), tensor(1., device='cuda:0'), tensor(1.0000, device='cuda:0'), tensor(1.0000, device='cuda:0'), tensor(1.0000, device='cuda:0'), tensor(1., device='cuda:0'), tensor(1.0000, device='cuda:0'), tensor(1.0000, device='cuda:0'), tensor(1., device='cuda:0'), tensor(1., device='cuda:0'), tensor(1.0000, device='cuda:0'), tensor(1.0000, device='cuda:0'), tensor(1., device='cuda:0'), tensor(1., device='cuda:0'), tensor(1., device='cuda:0'), tensor(1., device='cuda:0'), tensor(1., device='cuda:0'), tensor(1.0000, device='cuda:0'), tensor(1., device='cuda:0'), tensor(1., device='cuda:0'), tensor(1., device='cuda:0'), tensor(1.0000, device='cuda:0'), tensor(1., device='cuda:0'), tensor(1., device='cuda:0'), tensor(1.0000, device='cuda:0'), tensor(1., device='cuda:0'), tensor(1.0000, device='cuda:0'), tensor(1.0000, device='cuda:0'), tensor(1.0000, device='cuda:0'), tensor(1.0000, device='cuda:0'), tensor(1., device='cuda:0'), tensor(1.0000, device='cuda:0'), tensor(1., device='cuda:0'), tensor(1.0000, device='cuda:0'), tensor(1., device='cuda:0'), tensor(1., device='cuda:0'), tensor(1.0000, device='cuda:0'), tensor(1., device='cuda:0'), tensor(1., device='cuda:0'), tensor(1.0000, device='cuda:0'), tensor(1.0000, device='cuda:0'), tensor(1.0000, device='cuda:0'), tensor(1., device='cuda:0'), tensor(1., device='cuda:0'), tensor(1.0000, device='cuda:0'), tensor(1., device='cuda:0'), tensor(1.0000, device='cuda:0'), tensor(1., device='cuda:0'), tensor(1.0000, device='cuda:0'), tensor(1., device='cuda:0'), tensor(1., device='cuda:0'), tensor(1.0000, device='cuda:0'), tensor(1.0000, device='cuda:0'), tensor(1.0000, device='cuda:0'), tensor(1., device='cuda:0'), tensor(1., device='cuda:0'), tensor(1., device='cuda:0')], 'r_comp_norm': [tensor(1., device='cuda:0'), tensor(1., device='cuda:0'), tensor(1., device='cuda:0'), tensor(1., device='cuda:0'), tensor(1., device='cuda:0'), tensor(1., device='cuda:0'), tensor(1., device='cuda:0'), tensor(1., device='cuda:0'), tensor(1., device='cuda:0'), tensor(1., device='cuda:0'), tensor(1., device='cuda:0'), tensor(1., device='cuda:0'), tensor(1., device='cuda:0'), tensor(1., device='cuda:0'), tensor(1., device='cuda:0'), tensor(1.0000, device='cuda:0'), tensor(1., device='cuda:0'), tensor(1., device='cuda:0'), tensor(1.0000, device='cuda:0'), tensor(1.0000, device='cuda:0'), tensor(1., device='cuda:0'), tensor(1.0000, device='cuda:0'), tensor(1., device='cuda:0'), tensor(1., device='cuda:0'), tensor(1.0000, device='cuda:0'), tensor(1., device='cuda:0'), tensor(1.0000, device='cuda:0'), tensor(1.0000, device='cuda:0'), tensor(1., device='cuda:0'), tensor(1., device='cuda:0'), tensor(1.0000, device='cuda:0'), tensor(1., device='cuda:0'), tensor(1.0000, device='cuda:0'), tensor(1., device='cuda:0'), tensor(1.0000, device='cuda:0'), tensor(1., device='cuda:0'), tensor(1., device='cuda:0'), tensor(1., device='cuda:0'), tensor(1.0000, device='cuda:0'), tensor(1., device='cuda:0'), tensor(1., device='cuda:0'), tensor(1., device='cuda:0'), tensor(1., device='cuda:0'), tensor(1., device='cuda:0'), tensor(1., device='cuda:0'), tensor(1.0000, device='cuda:0'), tensor(1., device='cuda:0'), tensor(1.0000, device='cuda:0'), tensor(1., device='cuda:0'), tensor(1.0000, device='cuda:0'), tensor(1., device='cuda:0'), tensor(1., device='cuda:0'), tensor(1., device='cuda:0'), tensor(1., device='cuda:0'), tensor(1.0000, device='cuda:0'), tensor(1.0000, device='cuda:0'), tensor(1., device='cuda:0'), tensor(1., device='cuda:0'), tensor(1.0000, device='cuda:0'), tensor(1.0000, device='cuda:0'), tensor(1., device='cuda:0'), tensor(1.0000, device='cuda:0'), tensor(1.0000, device='cuda:0'), tensor(1., device='cuda:0'), tensor(1.0000, device='cuda:0'), tensor(1., device='cuda:0'), tensor(1., device='cuda:0'), tensor(1.0000, device='cuda:0'), tensor(1., device='cuda:0'), tensor(1., device='cuda:0'), tensor(1., device='cuda:0'), tensor(1., device='cuda:0'), tensor(1.0000, device='cuda:0'), tensor(1., device='cuda:0'), tensor(1., device='cuda:0'), tensor(1., device='cuda:0'), tensor(1., device='cuda:0'), tensor(1., device='cuda:0'), tensor(1., device='cuda:0'), tensor(1., device='cuda:0'), tensor(1.0000, device='cuda:0'), tensor(1., device='cuda:0'), tensor(1., device='cuda:0'), tensor(1.0000, device='cuda:0'), tensor(1., device='cuda:0'), tensor(1., device='cuda:0'), tensor(1.0000, device='cuda:0'), tensor(1., device='cuda:0'), tensor(1., device='cuda:0'), tensor(1.0000, device='cuda:0'), tensor(1., device='cuda:0'), tensor(1., device='cuda:0'), tensor(1.0000, device='cuda:0'), tensor(1., device='cuda:0'), tensor(1., device='cuda:0'), tensor(1., device='cuda:0'), tensor(1., device='cuda:0'), tensor(1., device='cuda:0'), tensor(1., device='cuda:0'), tensor(1., device='cuda:0'), tensor(1., device='cuda:0'), tensor(1.0000, device='cuda:0'), tensor(1., device='cuda:0'), tensor(1.0000, device='cuda:0'), tensor(1., device='cuda:0'), tensor(1., device='cuda:0'), tensor(1.0000, device='cuda:0'), tensor(1., device='cuda:0'), tensor(1., device='cuda:0'), tensor(1., device='cuda:0'), tensor(1.0000, device='cuda:0'), tensor(1., device='cuda:0'), tensor(1., device='cuda:0'), tensor(1.0000, device='cuda:0'), tensor(1.0000, device='cuda:0'), tensor(1.0000, device='cuda:0'), tensor(1.0000, device='cuda:0'), tensor(1., device='cuda:0'), tensor(1.0000, device='cuda:0'), tensor(1., device='cuda:0'), tensor(1., device='cuda:0'), tensor(1., device='cuda:0'), tensor(1., device='cuda:0'), tensor(1.0000, device='cuda:0'), tensor(1., device='cuda:0'), tensor(1.0000, device='cuda:0'), tensor(1., device='cuda:0'), tensor(1., device='cuda:0'), tensor(1., device='cuda:0'), tensor(1.0000, device='cuda:0'), tensor(1., device='cuda:0'), tensor(1., device='cuda:0'), tensor(1., device='cuda:0'), tensor(1.0000, device='cuda:0'), tensor(1., device='cuda:0')], 'net_norm': [tensor(0.2592, device='cuda:0'), tensor(0.2745, device='cuda:0'), tensor(0.2774, device='cuda:0'), tensor(0.2684, device='cuda:0'), tensor(0.2538, device='cuda:0'), tensor(0.2616, device='cuda:0'), tensor(0.2807, device='cuda:0'), tensor(0.2752, device='cuda:0'), tensor(0.2819, device='cuda:0'), tensor(0.2705, device='cuda:0'), tensor(0.2473, device='cuda:0'), tensor(0.2502, device='cuda:0'), tensor(0.2581, device='cuda:0'), tensor(0.2606, device='cuda:0'), tensor(0.2393, device='cuda:0'), tensor(0.2338, device='cuda:0'), tensor(0.1990, device='cuda:0'), tensor(0.1999, device='cuda:0'), tensor(0.2183, device='cuda:0'), tensor(0.2283, device='cuda:0'), tensor(0.2344, device='cuda:0'), tensor(0.2562, device='cuda:0'), tensor(0.2299, device='cuda:0'), tensor(0.2106, device='cuda:0'), tensor(0.2101, device='cuda:0'), tensor(0.2112, device='cuda:0'), tensor(0.2081, device='cuda:0'), tensor(0.1908, device='cuda:0'), tensor(0.1956, device='cuda:0'), tensor(0.2007, device='cuda:0'), tensor(0.2018, device='cuda:0'), tensor(0.1924, device='cuda:0'), tensor(0.1962, device='cuda:0'), tensor(0.2072, device='cuda:0'), tensor(0.2003, device='cuda:0'), tensor(0.2050, device='cuda:0'), tensor(0.2045, device='cuda:0'), tensor(0.2093, device='cuda:0'), tensor(0.1999, device='cuda:0'), tensor(0.2111, device='cuda:0'), tensor(0.2016, device='cuda:0'), tensor(0.2152, device='cuda:0'), tensor(0.2086, device='cuda:0'), tensor(0.1994, device='cuda:0'), tensor(0.1932, device='cuda:0'), tensor(0.1904, device='cuda:0'), tensor(0.2022, device='cuda:0'), tensor(0.2013, device='cuda:0'), tensor(0.1944, device='cuda:0'), tensor(0.1982, device='cuda:0'), tensor(0.2086, device='cuda:0'), tensor(0.1936, device='cuda:0'), tensor(0.1874, device='cuda:0'), tensor(0.1886, device='cuda:0'), tensor(0.1875, device='cuda:0'), tensor(0.1818, device='cuda:0'), tensor(0.1872, device='cuda:0'), tensor(0.1995, device='cuda:0'), tensor(0.2020, device='cuda:0'), tensor(0.2098, device='cuda:0'), tensor(0.2175, device='cuda:0'), tensor(0.1996, device='cuda:0'), tensor(0.1887, device='cuda:0'), tensor(0.1895, device='cuda:0'), tensor(0.2125, device='cuda:0'), tensor(0.2384, device='cuda:0'), tensor(0.2050, device='cuda:0'), tensor(0.1822, device='cuda:0'), tensor(0.1855, device='cuda:0'), tensor(0.2069, device='cuda:0'), tensor(0.2260, device='cuda:0'), tensor(0.1932, device='cuda:0'), tensor(0.1811, device='cuda:0'), tensor(0.1954, device='cuda:0'), tensor(0.1893, device='cuda:0'), tensor(0.2061, device='cuda:0'), tensor(0.2115, device='cuda:0'), tensor(0.2117, device='cuda:0'), tensor(0.2088, device='cuda:0'), tensor(0.1827, device='cuda:0'), tensor(0.1837, device='cuda:0'), tensor(0.2025, device='cuda:0'), tensor(0.2067, device='cuda:0'), tensor(0.1856, device='cuda:0'), tensor(0.1742, device='cuda:0'), tensor(0.1829, device='cuda:0'), tensor(0.2018, device='cuda:0'), tensor(0.2030, device='cuda:0'), tensor(0.1837, device='cuda:0'), tensor(0.1817, device='cuda:0'), tensor(0.2038, device='cuda:0'), tensor(0.1994, device='cuda:0'), tensor(0.1719, device='cuda:0'), tensor(0.1817, device='cuda:0'), tensor(0.2033, device='cuda:0'), tensor(0.1829, device='cuda:0'), tensor(0.1950, device='cuda:0'), tensor(0.1973, device='cuda:0'), tensor(0.1909, device='cuda:0'), tensor(0.2001, device='cuda:0'), tensor(0.2091, device='cuda:0'), tensor(0.1899, device='cuda:0'), tensor(0.2024, device='cuda:0'), tensor(0.1961, device='cuda:0'), tensor(0.2046, device='cuda:0'), tensor(0.1946, device='cuda:0'), tensor(0.2107, device='cuda:0'), tensor(0.1886, device='cuda:0'), tensor(0.1918, device='cuda:0'), tensor(0.1970, device='cuda:0'), tensor(0.2021, device='cuda:0'), tensor(0.1999, device='cuda:0'), tensor(0.2079, device='cuda:0'), tensor(0.2012, device='cuda:0'), tensor(0.2036, device='cuda:0'), tensor(0.1868, device='cuda:0'), tensor(0.1877, device='cuda:0'), tensor(0.1997, device='cuda:0'), tensor(0.1972, device='cuda:0'), tensor(0.2036, device='cuda:0'), tensor(0.2159, device='cuda:0'), tensor(0.2065, device='cuda:0'), tensor(0.1983, device='cuda:0'), tensor(0.2031, device='cuda:0'), tensor(0.2161, device='cuda:0'), tensor(0.2262, device='cuda:0'), tensor(0.1927, device='cuda:0'), tensor(0.1838, device='cuda:0'), tensor(0.1783, device='cuda:0'), tensor(0.1986, device='cuda:0'), tensor(0.2134, device='cuda:0'), tensor(0.2103, device='cuda:0'), tensor(0.2001, device='cuda:0'), tensor(0.2073, device='cuda:0'), tensor(0.2108, device='cuda:0')], 'cosine_sim': [tensor(0.8079, device='cuda:0'), tensor(0.7065, device='cuda:0'), tensor(0.5371, device='cuda:0'), tensor(0.6024, device='cuda:0'), tensor(0.6291, device='cuda:0'), tensor(0.4411, device='cuda:0'), tensor(0.7762, device='cuda:0'), tensor(0.4075, device='cuda:0'), tensor(0.5279, device='cuda:0'), tensor(0.1772, device='cuda:0'), tensor(0.6315, device='cuda:0'), tensor(0.6333, device='cuda:0'), tensor(0.5158, device='cuda:0'), tensor(0.5939, device='cuda:0'), tensor(-0.4976, device='cuda:0'), tensor(-0.3794, device='cuda:0'), tensor(-0.4610, device='cuda:0'), tensor(-0.6883, device='cuda:0'), tensor(-0.6643, device='cuda:0'), tensor(-0.4898, device='cuda:0'), tensor(0.0266, device='cuda:0'), tensor(-0.4959, device='cuda:0'), tensor(-0.1334, device='cuda:0'), tensor(-0.0093, device='cuda:0'), tensor(-0.0471, device='cuda:0'), tensor(-0.0182, device='cuda:0'), tensor(0.4350, device='cuda:0'), tensor(0.2221, device='cuda:0'), tensor(0.2331, device='cuda:0'), tensor(-0.3759, device='cuda:0'), tensor(-0.2837, device='cuda:0'), tensor(-0.0340, device='cuda:0'), tensor(0.3928, device='cuda:0'), tensor(-0.4204, device='cuda:0'), tensor(-0.2452, device='cuda:0'), tensor(0.4694, device='cuda:0'), tensor(-0.0848, device='cuda:0'), tensor(-0.0716, device='cuda:0'), tensor(-0.4038, device='cuda:0'), tensor(-0.4823, device='cuda:0'), tensor(-0.3644, device='cuda:0'), tensor(-0.1205, device='cuda:0'), tensor(-0.0450, device='cuda:0'), tensor(-0.1167, device='cuda:0'), tensor(0.1244, device='cuda:0'), tensor(0.0861, device='cuda:0'), tensor(0.4895, device='cuda:0'), tensor(-0.1907, device='cuda:0'), tensor(0.1526, device='cuda:0'), tensor(-0.0432, device='cuda:0'), tensor(-0.5013, device='cuda:0'), tensor(0.1593, device='cuda:0'), tensor(-0.2065, device='cuda:0'), tensor(0.1496, device='cuda:0'), tensor(-0.0044, device='cuda:0'), tensor(-0.1391, device='cuda:0'), tensor(0.4398, device='cuda:0'), tensor(0.0235, device='cuda:0'), tensor(-0.1761, device='cuda:0'), tensor(0.0757, device='cuda:0'), tensor(-0.2448, device='cuda:0'), tensor(0.0580, device='cuda:0'), tensor(-0.0839, device='cuda:0'), tensor(-0.3319, device='cuda:0'), tensor(-0.0161, device='cuda:0'), tensor(-0.2007, device='cuda:0'), tensor(-0.0818, device='cuda:0'), tensor(-0.0260, device='cuda:0'), tensor(0.0395, device='cuda:0'), tensor(-0.2659, device='cuda:0'), tensor(0.1259, device='cuda:0'), tensor(0.0075, device='cuda:0'), tensor(0.3021, device='cuda:0'), tensor(0.1650, device='cuda:0'), tensor(-0.1496, device='cuda:0'), tensor(0.1068, device='cuda:0'), tensor(-0.0024, device='cuda:0'), tensor(-0.3248, device='cuda:0'), tensor(-0.0361, device='cuda:0'), tensor(0.1843, device='cuda:0'), tensor(0.1981, device='cuda:0'), tensor(0.2268, device='cuda:0'), tensor(0.3033, device='cuda:0'), tensor(-0.1261, device='cuda:0'), tensor(-0.1509, device='cuda:0'), tensor(0.0694, device='cuda:0'), tensor(-0.1354, device='cuda:0'), tensor(0.1459, device='cuda:0'), tensor(0.3237, device='cuda:0'), tensor(0.0656, device='cuda:0'), tensor(0.1940, device='cuda:0'), tensor(-0.1578, device='cuda:0'), tensor(-0.0630, device='cuda:0'), tensor(0.4088, device='cuda:0'), tensor(-0.1294, device='cuda:0'), tensor(0.1006, device='cuda:0'), tensor(-0.3053, device='cuda:0'), tensor(0.1163, device='cuda:0'), tensor(-0.1925, device='cuda:0'), tensor(0.1895, device='cuda:0'), tensor(0.0834, device='cuda:0'), tensor(-0.3356, device='cuda:0'), tensor(0.1261, device='cuda:0'), tensor(-0.3311, device='cuda:0'), tensor(-0.0938, device='cuda:0'), tensor(0.0621, device='cuda:0'), tensor(-0.0504, device='cuda:0'), tensor(0.1219, device='cuda:0'), tensor(0.1200, device='cuda:0'), tensor(0.4755, device='cuda:0'), tensor(0.4828, device='cuda:0'), tensor(-0.4016, device='cuda:0'), tensor(0.1630, device='cuda:0'), tensor(0.0580, device='cuda:0'), tensor(-0.1515, device='cuda:0'), tensor(-0.0925, device='cuda:0'), tensor(-0.1464, device='cuda:0'), tensor(0.3662, device='cuda:0'), tensor(0.4910, device='cuda:0'), tensor(-0.2907, device='cuda:0'), tensor(0.2769, device='cuda:0'), tensor(0.3565, device='cuda:0'), tensor(0.2511, device='cuda:0'), tensor(0.2453, device='cuda:0'), tensor(-0.1346, device='cuda:0'), tensor(0.1076, device='cuda:0'), tensor(-0.2226, device='cuda:0'), tensor(-0.2829, device='cuda:0'), tensor(0.4856, device='cuda:0'), tensor(0.4676, device='cuda:0'), tensor(-0.2925, device='cuda:0'), tensor(0.2107, device='cuda:0'), tensor(0.2775, device='cuda:0'), tensor(0.6367, device='cuda:0'), tensor(0.1730, device='cuda:0')], 'retain_loss': [0.5092880417903264, 0.0503640861560901, 0.015086313243955374, 0.007486594053140531, 0.01255656719270822, 0.004842670688716074, 0.0001520149248335656, 0.011970262295246552, 0.016985868608283047], 'forget_loss': [20.502607345581055, 13.402009010314941, 9.614411354064941, 9.181539535522461, 11.110555648803711, 13.797414779663086, 15.577402114868164, 19.820764541625977, 36.3745231628418], 'retain_acc': [85.68421052631578, 99.1578947368421, 99.57894736842105, 99.78947368421053, 99.57894736842105, 99.78947368421053, 100.0, 99.78947368421053, 99.78947368421053], 'forget_acc': [4.0, 4.0, 16.0, 20.0, 12.0, 8.0, 8.0, 12.0, 12.0], 'valid_acc': [65.60000000000001, 67.2, 75.2, 69.6, 72.0, 76.8, 73.6, 73.6, 77.60000000000001], 'valid_loss': [1.6173115968704224, 1.2237776517868042, 0.9623454809188843, 1.1409822702407837, 1.5820670127868652, 1.5376967191696167, 1.7832530736923218, 2.224757671356201, 3.090841054916382]}\n"
     ]
    },
    {
     "data": {
      "image/png": "[encoded data removed]",
      "text/plain": [
       "<Figure size 640x480 with 1 Axes>"
      ]
     },
     "metadata": {},
     "output_type": "display_data"
    },
    {
     "data": {
      "image/png": "[encoded data removed]",
      "text/plain": [
       "<Figure size 640x480 with 1 Axes>"
      ]
     },
     "metadata": {},
     "output_type": "display_data"
    }
   ],
   "source": [
    "plot_history(retain_stage_history)\n"
   ]
  },
  {
   "cell_type": "code",
   "execution_count": 205,
   "metadata": {},
   "outputs": [
    {
     "name": "stdout",
     "output_type": "stream",
     "text": [
      "[65.60000000000001, 67.2, 75.2, 69.6, 72.0, 76.8, 73.6, 73.6, 77.60000000000001]\n"
     ]
    }
   ],
   "source": [
    "print(retain_stage_history['valid_acc'])"
   ]
  },
  {
   "cell_type": "code",
   "execution_count": 206,
   "metadata": {},
   "outputs": [
    {
     "name": "stdout",
     "output_type": "stream",
     "text": [
      "retain : \t (0.016988097725331622, 99.78947368421053)\n",
      "forget : \t (36.37452697753906, 12.0)\n",
      "valid : \t (3.090841054916382, 77.60000000000001)\n",
      "org valid : \t (0.7161650657653809, 76.0)\n",
      "std valid : \t (0.6877143383026123, 79.2)\n",
      "retr valid : \t (0.7313045859336853, 74.4)\n"
     ]
    }
   ],
   "source": [
    "print( \"retain : \\t\", calculate_acc_loss(model_after_forget, retain_loader, nn.CrossEntropyLoss()))\n",
    "print( \"forget : \\t\", calculate_acc_loss(model_after_forget, forget_loader, nn.CrossEntropyLoss()))\n",
    "print( \"valid : \\t\", calculate_acc_loss(model_after_forget, valid_loader_full, nn.CrossEntropyLoss()))\n",
    "print( \"org valid : \\t\", calculate_acc_loss(model_original, valid_loader_full, nn.CrossEntropyLoss()))\n",
    "print( \"std valid : \\t\", calculate_acc_loss(model_s, valid_loader_full, nn.CrossEntropyLoss()))\n",
    "print( \"retr valid : \\t\", calculate_acc_loss(model_retrained, valid_loader_full, nn.CrossEntropyLoss()))"
   ]
  },
  {
   "cell_type": "code",
   "execution_count": 207,
   "metadata": {},
   "outputs": [
    {
     "name": "stdout",
     "output_type": "stream",
     "text": [
      "test : \t (3.6805576384067535, 75.2)\n",
      "org test : \t (0.7028799951076508, 76.2)\n",
      "std test : \t (0.6925872266292572, 76.6)\n",
      "retr test : \t (0.7328287959098816, 76.6)\n"
     ]
    }
   ],
   "source": [
    "print( \"test : \\t\", calculate_acc_loss(model_after_forget, test_loader_full, nn.CrossEntropyLoss()))\n",
    "print( \"org test : \\t\", calculate_acc_loss(model_original, test_loader_full, nn.CrossEntropyLoss()))\n",
    "print( \"std test : \\t\", calculate_acc_loss(model_s, test_loader_full, nn.CrossEntropyLoss()))\n",
    "print( \"retr test : \\t\", calculate_acc_loss(model_retrained, test_loader_full, nn.CrossEntropyLoss()))"
   ]
  },
  {
   "cell_type": "markdown",
   "metadata": {},
   "source": [
    "# NTK based Forgetting"
   ]
  },
  {
   "cell_type": "markdown",
   "metadata": {},
   "source": [
    "#### NTK Update"
   ]
  },
  {
   "cell_type": "code",
   "execution_count": null,
   "metadata": {},
   "outputs": [],
   "source": [
    "def delta_w_utils(model_init,dataloader,name='complete'):\n",
    "    model_init.eval()\n",
    "    dataloader = torch.utils.data.DataLoader(dataloader.dataset, batch_size=1, shuffle=False)\n",
    "    G_list = []\n",
    "    f0_minus_y = []\n",
    "    for idx, batch in enumerate(dataloader):#(tqdm(dataloader,leave=False)):\n",
    "        batch = [tensor.to(next(model_init.parameters()).device) for tensor in batch]\n",
    "        input, target = batch\n",
    "        if 'mnist' in args.dataset:\n",
    "            input = input.view(input.shape[0],-1)\n",
    "        target = target.cpu().detach().numpy()\n",
    "        output = model_init(input)\n",
    "        G_sample=[]\n",
    "        for cls in range(num_classes):\n",
    "            grads = torch.autograd.grad(output[0,cls],model_init.parameters(),retain_graph=True)\n",
    "            grads = np.concatenate([g.view(-1).cpu().numpy() for g in grads])\n",
    "            G_sample.append(grads)\n",
    "            G_list.append(grads)\n",
    "        if args.lossfn=='mse':\n",
    "            p = output.cpu().detach().numpy().transpose()\n",
    "            #loss_hess = np.eye(len(p))\n",
    "            target = 2*target-1\n",
    "            f0_y_update = p-target\n",
    "        elif args.lossfn=='ce':\n",
    "            p = torch.nn.functional.softmax(output,dim=1).cpu().detach().numpy().transpose()\n",
    "            p[target]-=1\n",
    "            f0_y_update = copy.deepcopy(p)\n",
    "        f0_minus_y.append(f0_y_update)\n",
    "    return np.stack(G_list).transpose(),np.vstack(f0_minus_y)"
   ]
  },
  {
   "cell_type": "markdown",
   "metadata": {},
   "source": [
    "#### Jacobians and Hessians"
   ]
  },
  {
   "cell_type": "code",
   "execution_count": null,
   "metadata": {},
   "outputs": [],
   "source": [
    "from sys import getsizeof"
   ]
  },
  {
   "cell_type": "code",
   "execution_count": null,
   "metadata": {},
   "outputs": [],
   "source": [
    "ntk_time = 0\n",
    "model_init = ntk_init(init_checkpoint,args.seed)\n",
    "t1 = time.time()\n",
    "G_r,f0_minus_y_r = delta_w_utils(copy.deepcopy(model),retain_loader,'complete')\n",
    "t2 = time.time()\n",
    "ntk_time += t2-t1\n",
    "\n",
    "np.save('NTK_data/G_r.npy',G_r)\n",
    "np.save('NTK_data/f0_minus_y_r.npy',f0_minus_y_r)\n",
    "del G_r, f0_minus_y_r\n",
    "\n",
    "model_init = ntk_init(init_checkpoint,args.seed)\n",
    "t1 = time.time()\n",
    "G_f,f0_minus_y_f = delta_w_utils(copy.deepcopy(model),forget_loader,'retain') \n",
    "t2 = time.time()\n",
    "ntk_time += t2-t1\n",
    "\n",
    "np.save('NTK_data/G_f.npy',G_f)\n",
    "np.save('NTK_data/f0_minus_y_f.npy',f0_minus_y_f)\n",
    "del G_f, f0_minus_y_f"
   ]
  },
  {
   "cell_type": "code",
   "execution_count": null,
   "metadata": {},
   "outputs": [],
   "source": [
    "G_r = np.load('NTK_data/G_r.npy')\n",
    "G_f = np.load('NTK_data/G_f.npy')\n",
    "G = np.concatenate([G_r,G_f],axis=1)\n",
    "\n",
    "np.save('NTK_data/G.npy',G)\n",
    "del G, G_f, G_r\n",
    "\n",
    "f0_minus_y_r = np.load('NTK_data/f0_minus_y_r.npy')\n",
    "f0_minus_y_f = np.load('NTK_data/f0_minus_y_f.npy')\n",
    "f0_minus_y = np.concatenate([f0_minus_y_r,f0_minus_y_f])\n",
    "\n",
    "np.save('NTK_data/f0_minus_y.npy',f0_minus_y)\n",
    "del f0_minus_y, f0_minus_y_r, f0_minus_y_f"
   ]
  },
  {
   "cell_type": "markdown",
   "metadata": {},
   "source": [
    "This only requires access to the gradients and the initialization"
   ]
  },
  {
   "cell_type": "markdown",
   "metadata": {},
   "source": [
    "### w_lin(D)"
   ]
  },
  {
   "cell_type": "code",
   "execution_count": null,
   "metadata": {},
   "outputs": [],
   "source": [
    "G = np.load('NTK_data/G.npy')\n",
    "t1 = time.time()\n",
    "theta = G.transpose().dot(G) + num_total*args.weight_decay*np.eye(G.shape[1])\n",
    "t2 = time.time()\n",
    "ntk_time += t2-t1\n",
    "del G\n",
    "\n",
    "t1 = time.time()\n",
    "theta_inv = np.linalg.inv(theta)\n",
    "t2 = time.time()\n",
    "ntk_time += t2-t1\n",
    "\n",
    "np.save('NTK_data/theta.npy',theta)\n",
    "del theta\n",
    "\n",
    "G = np.load('NTK_data/G.npy')\n",
    "f0_minus_y = np.load('NTK_data/f0_minus_y.npy')\n",
    "t1 = time.time()\n",
    "w_complete = -G.dot(theta_inv.dot(f0_minus_y))\n",
    "t2 = time.time()\n",
    "ntk_time += t2-t1\n",
    "\n",
    "np.save('NTK_data/theta_inv.npy',theta_inv)\n",
    "np.save('NTK_data/w_complete.npy',w_complete)\n",
    "\n",
    "del G, f0_minus_y, theta_inv, w_complete "
   ]
  },
  {
   "cell_type": "markdown",
   "metadata": {},
   "source": [
    "### w_lin(D_r)"
   ]
  },
  {
   "cell_type": "code",
   "execution_count": null,
   "metadata": {},
   "outputs": [],
   "source": [
    "G_r = np.load('NTK_data/G_r.npy')\n",
    "t1 = time.time()\n",
    "theta_r = G_r.transpose().dot(G_r) + num_to_retain*args.weight_decay*np.eye(G_r.shape[1])\n",
    "t2 = time.time()\n",
    "ntk_time += t2-t1\n",
    "del G_r\n",
    "\n",
    "t1 = time.time()\n",
    "theta_r_inv = np.linalg.inv(theta_r)\n",
    "t2 = time.time()\n",
    "ntk_time += t2-t1\n",
    "\n",
    "np.save('NTK_data/theta_r.npy',theta_r)\n",
    "del theta_r\n",
    "\n",
    "G_r = np.load('NTK_data/G_r.npy')\n",
    "f0_minus_y_r = np.load('NTK_data/f0_minus_y_r.npy')\n",
    "t1 = time.time()\n",
    "w_retain = -G_r.dot(theta_r_inv.dot(f0_minus_y_r))\n",
    "t2 = time.time()\n",
    "ntk_time += t2-t1\n",
    "\n",
    "np.save('NTK_data/theta_r_inv.npy',theta_r_inv)\n",
    "np.save('NTK_data/w_retain.npy',w_retain)\n",
    "\n",
    "del G_r, f0_minus_y_r, theta_r_inv, w_retain "
   ]
  },
  {
   "cell_type": "markdown",
   "metadata": {},
   "source": [
    "#### Scrubbing Direction"
   ]
  },
  {
   "cell_type": "code",
   "execution_count": null,
   "metadata": {
    "scrolled": true
   },
   "outputs": [],
   "source": [
    "#### Scrubbing Direction\n",
    "w_complete = np.load('NTK_data/w_complete.npy')\n",
    "w_retain = np.load('NTK_data/w_retain.npy')\n",
    "delta_w = (w_retain-w_complete).squeeze()"
   ]
  },
  {
   "cell_type": "code",
   "execution_count": null,
   "metadata": {},
   "outputs": [],
   "source": [
    "delta_w_copy = copy.deepcopy(delta_w)"
   ]
  },
  {
   "cell_type": "markdown",
   "metadata": {},
   "source": [
    "#### Actual Change in Weights"
   ]
  },
  {
   "cell_type": "code",
   "execution_count": null,
   "metadata": {},
   "outputs": [],
   "source": [
    "delta_w_actual = vectorize_params(model0)-vectorize_params(model)\n",
    "\n",
    "print(f'Actual Norm-: {np.linalg.norm(delta_w_actual)}')\n",
    "print(f'Predtn Norm-: {np.linalg.norm(delta_w)}')\n",
    "scale_ratio = np.linalg.norm(delta_w_actual)/np.linalg.norm(delta_w)\n",
    "print('Actual Scale: {}'.format(scale_ratio))\n",
    "log_dict['actual_scale_ratio']=scale_ratio"
   ]
  },
  {
   "cell_type": "markdown",
   "metadata": {},
   "source": [
    "#### Trapezium Trick"
   ]
  },
  {
   "cell_type": "code",
   "execution_count": null,
   "metadata": {},
   "outputs": [],
   "source": [
    "m_pred_error = vectorize_params(model)-vectorize_params(model_init)-w_retain.squeeze()\n",
    "print(f\"Delta w -------: {np.linalg.norm(delta_w)}\")\n",
    "\n",
    "inner = np.inner(delta_w/np.linalg.norm(delta_w),m_pred_error/np.linalg.norm(m_pred_error))\n",
    "print(f\"Inner Product--: {inner}\")\n",
    "\n",
    "if inner<0:\n",
    "    angle = np.arccos(inner)-np.pi/2\n",
    "    print(f\"Angle----------:  {angle}\")\n",
    "\n",
    "    predicted_norm=np.linalg.norm(delta_w) + 2*np.sin(angle)*np.linalg.norm(m_pred_error)\n",
    "    print(f\"Pred Act Norm--:  {predicted_norm}\")\n",
    "else:\n",
    "    angle = np.arccos(inner) \n",
    "    print(f\"Angle----------:  {angle}\")\n",
    "\n",
    "    predicted_norm=np.linalg.norm(delta_w) + 2*np.cos(angle)*np.linalg.norm(m_pred_error)\n",
    "    print(f\"Pred Act Norm--:  {predicted_norm}\")\n",
    "\n",
    "predicted_scale=predicted_norm/np.linalg.norm(delta_w)\n",
    "predicted_scale\n",
    "print(f\"Predicted Scale:  {predicted_scale}\")\n",
    "log_dict['predicted_scale_ratio']=predicted_scale"
   ]
  },
  {
   "cell_type": "markdown",
   "metadata": {},
   "source": [
    "#### Normalized Inner Product between Prediction and Actual Scrubbing Update"
   ]
  },
  {
   "cell_type": "code",
   "execution_count": null,
   "metadata": {},
   "outputs": [],
   "source": [
    "def NIP(v1,v2):\n",
    "    nip = (np.inner(v1/np.linalg.norm(v1),v2/np.linalg.norm(v2)))\n",
    "    print(nip)\n",
    "    return nip"
   ]
  },
  {
   "cell_type": "code",
   "execution_count": null,
   "metadata": {},
   "outputs": [],
   "source": [
    "nip=NIP(delta_w_actual,delta_w)\n",
    "log_dict['nip']=nip"
   ]
  },
  {
   "cell_type": "markdown",
   "metadata": {},
   "source": [
    "#### Reshape delta_w"
   ]
  },
  {
   "cell_type": "code",
   "execution_count": null,
   "metadata": {},
   "outputs": [],
   "source": [
    "def get_delta_w_dict(delta_w,model):\n",
    "    # Give normalized delta_w\n",
    "    delta_w_dict = OrderedDict()\n",
    "    params_visited = 0\n",
    "    for k,p in model.named_parameters():\n",
    "        num_params = np.prod(list(p.shape))\n",
    "        update_params = delta_w[params_visited:params_visited+num_params]\n",
    "        delta_w_dict[k] = torch.Tensor(update_params).view_as(p)\n",
    "        params_visited+=num_params\n",
    "    return delta_w_dict"
   ]
  },
  {
   "cell_type": "markdown",
   "metadata": {},
   "source": [
    "### Metrics"
   ]
  },
  {
   "cell_type": "code",
   "execution_count": null,
   "metadata": {},
   "outputs": [],
   "source": [
    "from utils import *\n",
    "def get_metrics(model,dataloader,criterion,samples_correctness=False,use_bn=False,delta_w=None,scrub_act=False):\n",
    "    activations=[]\n",
    "    predictions=[]\n",
    "    if use_bn:\n",
    "        model.train()\n",
    "        dataloader = torch.utils.data.DataLoader(retain_loader.dataset, batch_size=128, shuffle=True)\n",
    "        for i in range(10):\n",
    "            for batch_idx, (data, target) in enumerate(dataloader):\n",
    "                data, target = data.to(args.device), target.to(args.device)            \n",
    "                output = model(data)\n",
    "    dataloader = torch.utils.data.DataLoader(dataloader.dataset, batch_size=1, shuffle=False)\n",
    "    model.eval()\n",
    "    metrics = AverageMeter()\n",
    "    mult = 0.5 if args.lossfn=='mse' else 1\n",
    "    for batch_idx, (data, target) in enumerate(dataloader):\n",
    "        data, target = data.to(args.device), target.to(args.device)            \n",
    "        if args.lossfn=='mse':\n",
    "            target=(2*target-1)\n",
    "            target = target.type(torch.cuda.FloatTensor).unsqueeze(1)\n",
    "        if 'mnist' in args.dataset:\n",
    "            data=data.view(data.shape[0],-1)\n",
    "        output = model(data)\n",
    "        loss = mult*criterion(output, target)\n",
    "        if samples_correctness:\n",
    "            activations.append(torch.nn.functional.softmax(output,dim=1).cpu().detach().numpy().squeeze())\n",
    "            predictions.append(get_error(output,target))\n",
    "        metrics.update(n=data.size(0), loss=loss.item(), error=get_error(output, target))\n",
    "    if samples_correctness:\n",
    "        return metrics.avg,np.stack(activations),np.array(predictions)\n",
    "    else:\n",
    "        return metrics.avg"
   ]
  },
  {
   "cell_type": "code",
   "execution_count": null,
   "metadata": {},
   "outputs": [],
   "source": [
    "def activations_predictions(model,dataloader,name):\n",
    "    criterion = torch.nn.CrossEntropyLoss()\n",
    "    metrics,activations,predictions=get_metrics(model,dataloader,criterion,True)\n",
    "    print(f\"{name} -> Loss:{np.round(metrics['loss'],3)}, Error:{metrics['error']}\")\n",
    "    log_dict[f\"{name}_loss\"]=metrics['loss']\n",
    "    log_dict[f\"{name}_error\"]=metrics['error']\n",
    "\n",
    "    return activations,predictions"
   ]
  },
  {
   "cell_type": "code",
   "execution_count": null,
   "metadata": {},
   "outputs": [],
   "source": [
    "def predictions_distance(l1,l2,name):\n",
    "    dist = np.sum(np.abs(l1-l2))\n",
    "    print(f\"Predictions Distance {name} -> {dist}\")\n",
    "    log_dict[f\"{name}_predictions\"]=dist"
   ]
  },
  {
   "cell_type": "code",
   "execution_count": null,
   "metadata": {},
   "outputs": [],
   "source": [
    "def activations_distance(a1,a2,name):\n",
    "    dist = np.linalg.norm(a1-a2,ord=1,axis=1).mean()\n",
    "    print(f\"Activations Distance {name} -> {dist}\")\n",
    "    log_dict[f\"{name}_activations\"]=dist"
   ]
  },
  {
   "cell_type": "markdown",
   "metadata": {},
   "source": [
    "# Scrub using NTK"
   ]
  },
  {
   "cell_type": "code",
   "execution_count": null,
   "metadata": {},
   "outputs": [],
   "source": [
    "scale=predicted_scale\n",
    "direction = get_delta_w_dict(delta_w,model)\n",
    "\n",
    "model_scrub = copy.deepcopy(model)\n",
    "for k,p in model_scrub.named_parameters():\n",
    "    p.data += (direction[k]*scale).to(args.device)"
   ]
  },
  {
   "cell_type": "markdown",
   "metadata": {},
   "source": [
    "# Fisher Forgetting"
   ]
  },
  {
   "cell_type": "markdown",
   "metadata": {},
   "source": [
    "### Finetune and Fisher Helper"
   ]
  },
  {
   "cell_type": "code",
   "execution_count": null,
   "metadata": {},
   "outputs": [],
   "source": [
    "from utils import *\n",
    "def get_metrics(model,dataloader,criterion,samples_correctness=False,use_bn=False,delta_w=None,scrub_act=False):\n",
    "    activations=[]\n",
    "    predictions=[]\n",
    "    if use_bn:\n",
    "        model.train()\n",
    "        dataloader = torch.utils.data.DataLoader(retain_loader.dataset, batch_size=128, shuffle=True)\n",
    "        for i in range(10):\n",
    "            for batch_idx, (data, target) in enumerate(dataloader):\n",
    "                data, target = data.to(args.device), target.to(args.device)            \n",
    "                output = model(data)\n",
    "    dataloader = torch.utils.data.DataLoader(dataloader.dataset, batch_size=1, shuffle=False)\n",
    "    model.eval()\n",
    "    metrics = AverageMeter()\n",
    "    mult = 0.5 if args.lossfn=='mse' else 1\n",
    "    for batch_idx, (data, target) in enumerate(dataloader):\n",
    "        data, target = data.to(args.device), target.to(args.device)            \n",
    "        if args.lossfn=='mse':\n",
    "            target=(2*target-1)\n",
    "            target = target.type(torch.cuda.FloatTensor).unsqueeze(1)\n",
    "        if 'mnist' in args.dataset:\n",
    "            data=data.view(data.shape[0],-1)\n",
    "        output = model(data)\n",
    "        if scrub_act:\n",
    "            G = []\n",
    "            for cls in range(num_classes):\n",
    "                grads = torch.autograd.grad(output[0,cls],model.parameters(),retain_graph=True)\n",
    "                grads = torch.cat([g.view(-1) for g in grads])\n",
    "                G.append(grads)\n",
    "            grads = torch.autograd.grad(output_sf[0,cls],model_scrubf.parameters(),retain_graph=False)\n",
    "            G = torch.stack(G).pow(2)\n",
    "            delta_f = torch.matmul(G,delta_w)\n",
    "            output += delta_f.sqrt()*torch.empty_like(delta_f).normal_()\n",
    "\n",
    "        loss = mult*criterion(output, target)\n",
    "        if samples_correctness:\n",
    "            activations.append(torch.nn.functional.softmax(output,dim=1).cpu().detach().numpy().squeeze())\n",
    "            predictions.append(get_error(output,target))\n",
    "        metrics.update(n=data.size(0), loss=loss.item(), error=get_error(output, target))\n",
    "    if samples_correctness:\n",
    "        return metrics.avg,np.stack(activations),np.array(predictions)\n",
    "    else:\n",
    "        return metrics.avg"
   ]
  },
  {
   "cell_type": "code",
   "execution_count": null,
   "metadata": {},
   "outputs": [],
   "source": [
    "def l2_penalty(model,model_init,weight_decay):\n",
    "    l2_loss = 0\n",
    "    for (k,p),(k_init,p_init) in zip(model.named_parameters(),model_init.named_parameters()):\n",
    "        if p.requires_grad:\n",
    "            l2_loss += (p-p_init).pow(2).sum()\n",
    "    l2_loss *= (weight_decay/2.)\n",
    "    return l2_loss\n",
    "\n",
    "def run_train_epoch(model: nn.Module, model_init, data_loader: torch.utils.data.DataLoader, \n",
    "                    loss_fn: nn.Module,\n",
    "                    optimizer: torch.optim.SGD, split: str, epoch: int, ignore_index=None,\n",
    "                    negative_gradient=False, negative_multiplier=-1, random_labels=False,\n",
    "                    quiet=False,delta_w=None,scrub_act=False):\n",
    "    model.eval()\n",
    "    metrics = AverageMeter()    \n",
    "    num_labels = data_loader.dataset.targets.max().item() + 1\n",
    "    \n",
    "    with torch.set_grad_enabled(split != 'test'):\n",
    "        for idx, batch in enumerate(tqdm(data_loader, leave=False)):\n",
    "            batch = [tensor.to(next(model.parameters()).device) for tensor in batch]\n",
    "            input, target = batch\n",
    "            output = model(input)\n",
    "            if split=='test' and scrub_act:\n",
    "                G = []\n",
    "                for cls in range(num_classes):\n",
    "                    grads = torch.autograd.grad(output[0,cls],model.parameters(),retain_graph=True)\n",
    "                    grads = torch.cat([g.view(-1) for g in grads])\n",
    "                    G.append(grads)\n",
    "                grads = torch.autograd.grad(output_sf[0,cls],model_scrubf.parameters(),retain_graph=False)\n",
    "                G = torch.stack(G).pow(2)\n",
    "                delta_f = torch.matmul(G,delta_w)\n",
    "                output += delta_f.sqrt()*torch.empty_like(delta_f).normal_()\n",
    "            loss = loss_fn(output, target) + l2_penalty(model,model_init,args.weight_decay)\n",
    "            metrics.update(n=input.size(0), loss=loss_fn(output,target).item(), error=get_error(output, target))\n",
    "            \n",
    "            if split != 'test':\n",
    "                model.zero_grad()\n",
    "                loss.backward()\n",
    "                optimizer.step()\n",
    "    if not quiet:\n",
    "        log_metrics(split, metrics, epoch)\n",
    "    return metrics.avg\n",
    "\n",
    "def run_neggrad_epoch(model: nn.Module, model_init, data_loader: torch.utils.data.DataLoader, \n",
    "                    forget_loader: torch.utils.data.DataLoader,\n",
    "                    alpha: float,\n",
    "                    loss_fn: nn.Module,\n",
    "                    optimizer: torch.optim.SGD, split: str, epoch: int, ignore_index=None,\n",
    "                    quiet=False):\n",
    "    model.eval()\n",
    "    metrics = AverageMeter()    \n",
    "    num_labels = data_loader.dataset.targets.max().item() + 1\n",
    "    \n",
    "    with torch.set_grad_enabled(split != 'test'):\n",
    "        for idx, (batch_retain,batch_forget) in enumerate(tqdm(zip(data_loader,cycle(forget_loader)), leave=False)):\n",
    "            batch_retain = [tensor.to(next(model.parameters()).device) for tensor in batch_retain]\n",
    "            batch_forget = [tensor.to(next(model.parameters()).device) for tensor in batch_forget]\n",
    "            input_r, target_r = batch_retain\n",
    "            input_f, target_f = batch_forget\n",
    "            output_r = model(input_r)\n",
    "            output_f = model(input_f)\n",
    "            loss = alpha*(loss_fn(output_r, target_r) + l2_penalty(model,model_init,args.weight_decay)) - (1-alpha)*loss_fn(output_f, target_f)\n",
    "            metrics.update(n=input_r.size(0), loss=loss_fn(output_r,target_r).item(), error=get_error(output_r, target_r))\n",
    "            if split != 'test':\n",
    "                model.zero_grad()\n",
    "                loss.backward()\n",
    "                optimizer.step()\n",
    "    if not quiet:\n",
    "        log_metrics(split, metrics, epoch)\n",
    "    return metrics.avg"
   ]
  },
  {
   "cell_type": "code",
   "execution_count": null,
   "metadata": {},
   "outputs": [],
   "source": [
    "def finetune(model: nn.Module, data_loader: torch.utils.data.DataLoader, lr=0.01, epochs=10, quiet=False):\n",
    "    loss_fn = nn.CrossEntropyLoss()\n",
    "    optimizer = torch.optim.SGD(model.parameters(), lr=lr, weight_decay=0.0)\n",
    "    model_init=copy.deepcopy(model)\n",
    "    for epoch in range(epochs):\n",
    "        run_train_epoch(model, model_init, data_loader, loss_fn, optimizer, split='train', epoch=epoch, ignore_index=None, quiet=quiet)\n",
    "        #train_vanilla(epoch, data_loader, model, loss_fn, optimizer, args)\n",
    "\n",
    "def negative_grad(model: nn.Module, data_loader: torch.utils.data.DataLoader, forget_loader: torch.utils.data.DataLoader, alpha: float, lr=0.01, epochs=10, quiet=False):\n",
    "    loss_fn = nn.CrossEntropyLoss()\n",
    "    optimizer = torch.optim.SGD(model.parameters(), lr=lr, weight_decay=0.0)\n",
    "    model_init=copy.deepcopy(model)\n",
    "    for epoch in range(epochs):\n",
    "        run_neggrad_epoch(model, model_init, data_loader, forget_loader, alpha, loss_fn, optimizer, split='train', epoch=epoch, ignore_index=None, quiet=quiet)\n",
    "        #train_negrad(epoch, data_loader, forget_loader, model, loss_fn, optimizer,  alpha)\n",
    "\n",
    "def fk_fientune(model: nn.Module, data_loader: torch.utils.data.DataLoader, args, lr=0.01, epochs=10, quiet=False):\n",
    "    loss_fn = nn.CrossEntropyLoss()\n",
    "    optimizer = torch.optim.SGD(model.parameters(), lr=lr, weight_decay=0.0)\n",
    "    model_init=copy.deepcopy(model)\n",
    "    for epoch in range(epochs):\n",
    "        sgda_adjust_learning_rate(epoch, args, optimizer)\n",
    "        run_train_epoch(model, model_init, data_loader, loss_fn, optimizer, split='train', epoch=epoch, ignore_index=None, quiet=quiet)\n",
    "        #train_negrad(epoch, data_loader, forget_loader, model, loss_fn, optimizer,  alpha)\n",
    "def test(model, data_loader):\n",
    "    loss_fn = nn.CrossEntropyLoss()\n",
    "    model_init=copy.deepcopy(model)\n",
    "    return run_train_epoch(model, model_init, data_loader, loss_fn, optimizer=None, split='test', epoch=epoch, ignore_index=None, quiet=True)"
   ]
  },
  {
   "cell_type": "code",
   "execution_count": null,
   "metadata": {},
   "outputs": [],
   "source": [
    "def readout_retrain(model, data_loader, test_loader, lr=0.1, epochs=500, threshold=0.01, quiet=True):\n",
    "    torch.manual_seed(seed)\n",
    "    model = copy.deepcopy(model)\n",
    "    loss_fn = nn.CrossEntropyLoss()\n",
    "    optimizer = torch.optim.SGD(model.parameters(), lr=lr, weight_decay=0.0)\n",
    "    sampler = torch.utils.data.RandomSampler(data_loader.dataset, replacement=True, num_samples=500)\n",
    "    data_loader_small = torch.utils.data.DataLoader(data_loader.dataset, batch_size=data_loader.batch_size, sampler=sampler, num_workers=data_loader.num_workers)\n",
    "    metrics = []\n",
    "    model_init=copy.deepcopy(model)\n",
    "    for epoch in range(epochs):\n",
    "        metrics.append(run_train_epoch(model, model_init, test_loader, loss_fn, optimizer, split='test', epoch=epoch, ignore_index=None, quiet=quiet))\n",
    "        if metrics[-1]['loss'] <= threshold:\n",
    "            break\n",
    "        run_train_epoch(model, model_init, data_loader_small, loss_fn, optimizer, split='train', epoch=epoch, ignore_index=None, quiet=quiet)\n",
    "    return epoch, metrics\n",
    "\n",
    "def extract_retrain_time(metrics, threshold=0.1):\n",
    "    losses = np.array([m['loss'] for m in metrics])\n",
    "    return np.argmax(losses < threshold)\n",
    "\n",
    "def all_readouts(model,thresh=0.1,name='method'):\n",
    "    train_loader = torch.utils.data.DataLoader(train_loader_full.dataset, batch_size=args.batch_size, shuffle=True)\n",
    "    retrain_time, _ = readout_retrain(model, train_loader, forget_loader, epochs=100, lr=0.1, threshold=thresh)\n",
    "    test_error = test(model, test_loader_full)['error']\n",
    "    forget_error = test(model, forget_loader)['error']\n",
    "    retain_error = test(model, retain_loader)['error']\n",
    "    print(f\"{name} ->\"\n",
    "          f\"\\tFull test error: {test_error:.2%}\"\n",
    "          f\"\\tForget error: {forget_error:.2%}\\tRetain error: {retain_error:.2%}\"\n",
    "          f\"\\tFine-tune time: {retrain_time+1} steps\")\n",
    "    log_dict[f\"{name}_retrain_time\"]=retrain_time+1\n",
    "    return(dict(test_error=test_error, forget_error=forget_error, retain_error=retain_error, retrain_time=retrain_time))"
   ]
  },
  {
   "cell_type": "markdown",
   "metadata": {},
   "source": [
    "# Fisher"
   ]
  },
  {
   "cell_type": "code",
   "execution_count": null,
   "metadata": {},
   "outputs": [],
   "source": [
    "model_scrubf = copy.deepcopy(model_scrub)\n",
    "modelf = copy.deepcopy(model)\n",
    "modelf0 = copy.deepcopy(model0)\n",
    "\n",
    "for p in itertools.chain(modelf.parameters(), modelf0.parameters(), model_scrubf.parameters()):\n",
    "    p.data0 = copy.deepcopy(p.data.clone())"
   ]
  },
  {
   "cell_type": "code",
   "execution_count": null,
   "metadata": {},
   "outputs": [],
   "source": [
    "def hessian(dataset, model):\n",
    "    model.eval()\n",
    "    train_loader = torch.utils.data.DataLoader(dataset, batch_size=1, shuffle=False)\n",
    "    loss_fn = nn.CrossEntropyLoss()\n",
    "\n",
    "    for p in model.parameters():\n",
    "        p.grad_acc = 0\n",
    "        p.grad2_acc = 0\n",
    "    \n",
    "    for data, orig_target in tqdm(train_loader):\n",
    "        data, orig_target = data.to(args.device), orig_target.to(args.device)\n",
    "        output = model(data)\n",
    "        prob = F.softmax(output, dim=-1).data\n",
    "\n",
    "        for y in range(output.shape[1]):\n",
    "            target = torch.empty_like(orig_target).fill_(y)\n",
    "            loss = loss_fn(output, target)\n",
    "            model.zero_grad()\n",
    "            loss.backward(retain_graph=True)\n",
    "            for p in model.parameters():\n",
    "                if p.requires_grad:\n",
    "                    p.grad_acc += (orig_target == target).float() * p.grad.data\n",
    "                    p.grad2_acc += prob[:, y] * p.grad.data.pow(2)\n",
    "    for p in model.parameters():\n",
    "        p.grad_acc /= len(train_loader)\n",
    "        p.grad2_acc /= len(train_loader)"
   ]
  },
  {
   "cell_type": "code",
   "execution_count": null,
   "metadata": {},
   "outputs": [],
   "source": [
    "hessian(retain_loader.dataset, model_scrubf)\n",
    "hessian(retain_loader.dataset, modelf)\n",
    "hessian(retain_loader.dataset, modelf0)"
   ]
  },
  {
   "cell_type": "code",
   "execution_count": null,
   "metadata": {},
   "outputs": [],
   "source": [
    "def get_mean_var(p, is_base_dist=False, alpha=3e-6):\n",
    "    var = copy.deepcopy(1./(p.grad2_acc+1e-8))\n",
    "    var = var.clamp(max=1e3)\n",
    "    if p.size(0) == num_classes:\n",
    "        var = var.clamp(max=1e2)\n",
    "    var = alpha * var\n",
    "    \n",
    "    if p.ndim > 1:\n",
    "        var = var.mean(dim=1, keepdim=True).expand_as(p).clone()\n",
    "    if not is_base_dist:\n",
    "        mu = copy.deepcopy(p.data0.clone())\n",
    "    else:\n",
    "        mu = copy.deepcopy(p.data0.clone())\n",
    "    if p.size(0) == num_classes and num_to_forget is None:\n",
    "        mu[class_to_forget] = 0\n",
    "        var[class_to_forget] = 0.0001\n",
    "    if p.size(0) == num_classes:\n",
    "        # Last layer\n",
    "        var *= 10\n",
    "    elif p.ndim == 1:\n",
    "        # BatchNorm\n",
    "        var *= 10\n",
    "#         var*=1\n",
    "    return mu, var\n",
    "\n",
    "def kl_divergence_fisher(mu0, var0, mu1, var1):\n",
    "    return ((mu1 - mu0).pow(2)/var0 + var1/var0 - torch.log(var1/var0) - 1).sum()"
   ]
  },
  {
   "cell_type": "markdown",
   "metadata": {},
   "source": [
    "## Fisher Noise in Weights"
   ]
  },
  {
   "cell_type": "code",
   "execution_count": null,
   "metadata": {
    "scrolled": true
   },
   "outputs": [],
   "source": [
    "# Computes the amount of information not forgotten at all layers using the given alpha\n",
    "alpha = 1e-7\n",
    "total_kl = 0\n",
    "torch.manual_seed(seed)\n",
    "for (k, p), (k0, p0) in zip(modelf.named_parameters(), modelf0.named_parameters()):\n",
    "    mu0, var0 = get_mean_var(p, False, alpha=alpha)\n",
    "    mu1, var1 = get_mean_var(p0, True, alpha=alpha)\n",
    "    kl = kl_divergence_fisher(mu0, var0, mu1, var1).item()\n",
    "    total_kl += kl\n",
    "    print(k, f'{kl:.1f}')\n",
    "print(\"Total:\", total_kl)\n",
    "log_dict['fisher_info']=total_kl"
   ]
  },
  {
   "cell_type": "code",
   "execution_count": null,
   "metadata": {},
   "outputs": [],
   "source": [
    "fisher_dir = []\n",
    "alpha = 1e-6\n",
    "torch.manual_seed(seed)\n",
    "for i, p in enumerate(modelf.parameters()):\n",
    "    mu, var = get_mean_var(p, False, alpha=alpha)\n",
    "    p.data = mu + var.sqrt() * torch.empty_like(p.data0).normal_()\n",
    "    fisher_dir.append(var.sqrt().view(-1).cpu().detach().numpy())\n",
    "\n",
    "for i, p in enumerate(modelf0.parameters()):\n",
    "    mu, var = get_mean_var(p, False, alpha=alpha)\n",
    "    p.data = mu + var.sqrt() * torch.empty_like(p.data0).normal_()"
   ]
  },
  {
   "cell_type": "code",
   "execution_count": null,
   "metadata": {},
   "outputs": [],
   "source": [
    "print(test(modelf, retain_loader))\n",
    "print(test(modelf, forget_loader))\n",
    "print(test(modelf, valid_loader_full))\n",
    "print(test(modelf, test_loader_full))"
   ]
  },
  {
   "cell_type": "markdown",
   "metadata": {},
   "source": [
    "### Finetune"
   ]
  },
  {
   "cell_type": "code",
   "execution_count": null,
   "metadata": {},
   "outputs": [],
   "source": [
    "model_ft = copy.deepcopy(model)\n",
    "retain_loader = replace_loader_dataset(train_loader_full,retain_dataset, seed=seed, batch_size=args.batch_size, shuffle=True)    \n",
    "finetune(model_ft, retain_loader, epochs=10, quiet=True, lr=0.01)"
   ]
  },
  {
   "cell_type": "markdown",
   "metadata": {},
   "source": [
    "### Negative Gradient"
   ]
  },
  {
   "cell_type": "code",
   "execution_count": null,
   "metadata": {},
   "outputs": [],
   "source": [
    "args.ng_alpha = 0.95\n",
    "args.ng_epochs = 10\n",
    "args.ng_lr = 0.01\n",
    "model_ng = copy.deepcopy(model)    \n",
    "negative_grad(model_ng, retain_loader, forget_loader, alpha=args.ng_alpha, epochs=args.ng_epochs, quiet=True, lr=args.ng_lr)"
   ]
  },
  {
   "cell_type": "markdown",
   "metadata": {},
   "source": [
    "### Catastrophic Forgetting k layers"
   ]
  },
  {
   "cell_type": "code",
   "execution_count": null,
   "metadata": {},
   "outputs": [],
   "source": [
    "args.lr_decay_epochs = [10,15,20]\n",
    "args.cfk_lr = 0.01\n",
    "args.cfk_epochs = 10\n",
    "\n",
    "model_cfk = copy.deepcopy(model)\n",
    "\n",
    "for param in model_cfk.parameters():\n",
    "    param.requires_grad_(False)\n",
    "\n",
    "if args.model == 'allcnn':\n",
    "    layers = [9]\n",
    "    for k in layers:\n",
    "        for param in model_cfk.features[k].parameters():\n",
    "            param.requires_grad_(True)\n",
    "    \n",
    "elif args.model == \"resnet\":\n",
    "    for param in model_cfk.layer4.parameters():\n",
    "        param.requires_grad_(True)\n",
    "\n",
    "else:\n",
    "    raise NotImplementedError\n",
    "\n",
    "\n",
    "fk_fientune(model_cfk, retain_loader, args=args, epochs=args.cfk_epochs, quiet=True, lr=args.cfk_lr)"
   ]
  },
  {
   "cell_type": "markdown",
   "metadata": {},
   "source": [
    "### Exact Unlearning k layers"
   ]
  },
  {
   "cell_type": "code",
   "execution_count": null,
   "metadata": {},
   "outputs": [],
   "source": [
    "\"\"\" The last block and classifier of resnet-18\n",
    "(layer4): Sequential(\n",
    "    (0): _ResBlock(\n",
    "      (bn1): BatchNorm2d(102, eps=1e-05, momentum=0.1, affine=True, track_running_stats=True)\n",
    "      (conv1): Conv2d(102, 204, kernel_size=(3, 3), stride=(2, 2), padding=(1, 1))\n",
    "      (bn2): BatchNorm2d(204, eps=1e-05, momentum=0.1, affine=True, track_running_stats=True)\n",
    "      (conv2): Conv2d(204, 204, kernel_size=(3, 3), stride=(1, 1), padding=(1, 1))\n",
    "      (shortcut): Sequential(\n",
    "        (0): Conv2d(102, 204, kernel_size=(1, 1), stride=(2, 2), bias=False)\n",
    "      )\n",
    "    )\n",
    "    (1): _ResBlock(\n",
    "      (bn1): BatchNorm2d(204, eps=1e-05, momentum=0.1, affine=True, track_running_stats=True)\n",
    "      (conv1): Conv2d(204, 204, kernel_size=(3, 3), stride=(1, 1), padding=(1, 1))\n",
    "      (bn2): BatchNorm2d(204, eps=1e-05, momentum=0.1, affine=True, track_running_stats=True)\n",
    "      (conv2): Conv2d(204, 204, kernel_size=(3, 3), stride=(1, 1), padding=(1, 1))\n",
    "    )\n",
    "  )\n",
    "(linear): Linear(in_features=204, out_features=5, bias=True)\n",
    "\"\"\"\n",
    "\n",
    "\"\"\" The last block and classifier of allcnn\n",
    "AllCNN(\n",
    "  (features): Sequential(\n",
    "    ...\n",
    "    (9): Conv(\n",
    "      (0): Conv2d(192, 192, kernel_size=(1, 1), stride=(1, 1), bias=False)\n",
    "      (1): BatchNorm2d(192, eps=1e-05, momentum=0.1, affine=True, track_running_stats=True)\n",
    "      (2): ReLU()\n",
    "    )\n",
    "    (10): AvgPool2d(kernel_size=8, stride=8, padding=0)\n",
    "    (11): Flatten()\n",
    "  )\n",
    "  (classifier): Sequential(\n",
    "    (0): Linear(in_features=192, out_features=5, bias=True)\n",
    "  )\n",
    ")\n",
    "\"\"\""
   ]
  },
  {
   "cell_type": "code",
   "execution_count": null,
   "metadata": {},
   "outputs": [],
   "source": [
    "args.lr_decay_epochs = [10,15,20]\n",
    "args.euk_lr = 0.01\n",
    "args.euk_epochs = training_epochs\n",
    "model_euk = copy.deepcopy(model)\n",
    "\n",
    "for param in model_euk.parameters():\n",
    "    param.requires_grad_(False)\n",
    "\n",
    "if args.model == 'allcnn':\n",
    "    with torch.no_grad():\n",
    "        for k in layers:\n",
    "            for i in range(0,3):\n",
    "                try:\n",
    "                    model_euk.features[k][i].weight.copy_(model_initial.features[k][i].weight)\n",
    "                except:\n",
    "                    print (\"block {}, layer {} does not have weights\".format(k,i))\n",
    "                try:\n",
    "                    model_euk.features[k][i].bias.copy_(model_initial.features[k][i].bias)\n",
    "                except:\n",
    "                    print (\"block {}, layer {} does not have bias\".format(k,i))\n",
    "        model_euk.classifier[0].weight.copy_(model_initial.classifier[0].weight)\n",
    "        model_euk.classifier[0].bias.copy_(model_initial.classifier[0].bias)\n",
    "    \n",
    "    for k in layers:\n",
    "        for param in model_euk.features[k].parameters():\n",
    "            param.requires_grad_(True)\n",
    "    \n",
    "elif args.model == \"resnet\":\n",
    "    with torch.no_grad():\n",
    "        for i in range(0,2):\n",
    "            try:\n",
    "                model_euk.layer4[i].bn1.weight.copy_(model_initial.layer4[i].bn1.weight)\n",
    "            except:\n",
    "                print (\"block 4, layer {} does not have weight\".format(i))\n",
    "            try:\n",
    "                model_euk.layer4[i].bn1.bias.copy_(model_initial.layer4[i].bn1.bias)\n",
    "            except:\n",
    "                print (\"block 4, layer {} does not have bias\".format(i))\n",
    "            try:\n",
    "                model_euk.layer4[i].conv1.weight.copy_(model_initial.layer4[i].conv1.weight)\n",
    "            except:\n",
    "                print (\"block 4, layer {} does not have weight\".format(i))\n",
    "            try:\n",
    "                model_euk.layer4[i].conv1.bias.copy_(model_initial.layer4[i].conv1.bias)\n",
    "            except:\n",
    "                print (\"block 4, layer {} does not have bias\".format(i))\n",
    "\n",
    "            try:\n",
    "                model_euk.layer4[i].bn2.weight.copy_(model_initial.layer4[i].bn2.weight)\n",
    "            except:\n",
    "                print (\"block 4, layer {} does not have weight\".format(i))\n",
    "            try:\n",
    "                model_euk.layer4[i].bn2.bias.copy_(model_initial.layer4[i].bn2.bias)\n",
    "            except:\n",
    "                print (\"block 4, layer {} does not have bias\".format(i))\n",
    "            try:\n",
    "                model_euk.layer4[i].conv2.weight.copy_(model_initial.layer4[i].conv2.weight)\n",
    "            except:\n",
    "                print (\"block 4, layer {} does not have weight\".format(i))\n",
    "            try:\n",
    "                model_euk.layer4[i].conv2.bias.copy_(model_initial.layer4[i].conv2.bias)\n",
    "            except:\n",
    "                print (\"block 4, layer {} does not have bias\".format(i))\n",
    "\n",
    "        model_euk.layer4[0].shortcut[0].weight.copy_(model_initial.layer4[0].shortcut[0].weight)\n",
    "        \n",
    "    for param in model_euk.layer4.parameters():\n",
    "        param.requires_grad_(True)\n",
    "\n",
    "else:\n",
    "    raise NotImplementedError\n",
    "\n",
    "fk_fientune(model_euk, retain_loader, epochs=args.euk_epochs, quiet=True, lr=args.euk_lr, args=args)"
   ]
  },
  {
   "cell_type": "markdown",
   "metadata": {},
   "source": [
    "### Readouts"
   ]
  },
  {
   "cell_type": "code",
   "execution_count": null,
   "metadata": {
    "scrolled": true
   },
   "outputs": [],
   "source": [
    "try: readouts\n",
    "except: readouts = {}\n",
    "\n",
    "_,_=activations_predictions(copy.deepcopy(model),forget_loader,'Original_Model_D_f')\n",
    "thresh=log_dict['Original_Model_D_f_loss']+1e-5\n",
    "print(thresh)\n",
    "readouts[\"a\"] = all_readouts(copy.deepcopy(model),thresh,'Original')\n",
    "readouts[\"b\"] = all_readouts(copy.deepcopy(model0),thresh,'Retrain')\n",
    "readouts[\"c\"] = all_readouts(copy.deepcopy(model_ft),thresh,'Finetune')\n",
    "readouts[\"d\"] = all_readouts(copy.deepcopy(model_ng),thresh,'NegGrad')\n",
    "readouts[\"e\"] = all_readouts(copy.deepcopy(model_cfk),thresh,'CF-k')\n",
    "readouts[\"f\"] = all_readouts(copy.deepcopy(model_euk),thresh,'EU-k')\n",
    "readouts[\"g\"] = all_readouts(copy.deepcopy(modelf),thresh,'Fisher')\n",
    "readouts[\"h\"] = all_readouts(copy.deepcopy(model_scrub),thresh,'NTK')\n",
    "readouts[\"i\"] = all_readouts(copy.deepcopy(model_s),thresh,'SCRUB')"
   ]
  }
 ],
 "metadata": {
  "kernelspec": {
   "display_name": "Python 3 (ipykernel)",
   "language": "python",
   "name": "python3"
  },
  "language_info": {
   "codemirror_mode": {
    "name": "ipython",
    "version": 3
   },
   "file_extension": ".py",
   "mimetype": "text/x-python",
   "name": "python",
   "nbconvert_exporter": "python",
   "pygments_lexer": "ipython3",
   "version": "3.12.3"
  }
 },
 "nbformat": 4,
 "nbformat_minor": 4
}
